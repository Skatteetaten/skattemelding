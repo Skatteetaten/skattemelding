{
 "cells": [
  {
   "cell_type": "code",
   "id": "initial_id",
   "metadata": {
    "collapsed": true,
    "ExecuteTime": {
     "end_time": "2024-08-15T10:09:55.553649Z",
     "start_time": "2024-08-15T10:09:55.239675Z"
    }
   },
   "source": [
    "import base64\n",
    "import xmltodict\n",
    "\n",
    "def base64_decode(s: str, encoding: str) -> str:\n",
    "    base64_bytes = s.encode(encoding)\n",
    "    message_bytes = base64.b64decode(base64_bytes)\n",
    "    return message_bytes.decode(encoding)\n",
    "\n",
    "with open(\"AsyncFeil.b64\") as f:\n",
    "    nsp_xml = base64_decode(f.read(), \"utf-8\")\n",
    "    "
   ],
   "outputs": [],
   "execution_count": 10
  },
  {
   "metadata": {},
   "cell_type": "code",
   "outputs": [],
   "execution_count": null,
   "source": "",
   "id": "76edd046df9f6434"
  },
  {
   "metadata": {
    "ExecuteTime": {
     "end_time": "2024-08-15T10:09:59.811762Z",
     "start_time": "2024-08-15T10:09:56.641410Z"
    }
   },
   "cell_type": "code",
   "source": "nsp_dict = xmltodict.parse(nsp_xml)",
   "id": "542c236cd405936e",
   "outputs": [],
   "execution_count": 11
  },
  {
   "metadata": {
    "ExecuteTime": {
     "end_time": "2024-08-13T06:19:17.343114Z",
     "start_time": "2024-08-13T06:19:15.596900Z"
    }
   },
   "cell_type": "code",
   "source": "nsp_xml_from_dict = xmltodict.unparse(nsp_dict)",
   "id": "7563983ced9ef643",
   "outputs": [],
   "execution_count": 6
  },
  {
   "metadata": {
    "ExecuteTime": {
     "end_time": "2024-08-13T06:20:52.122525Z",
     "start_time": "2024-08-13T06:20:52.004551Z"
    }
   },
   "cell_type": "code",
   "source": [
    "nsp_base64 = base64.b64encode(nsp_xml_from_dict.encode(\"utf-8\"))\n",
    "nsp_base64 = str(nsp_base64.decode(\"utf-8\"))\n",
    "                 "
   ],
   "id": "9353e6b3a0c0ce00",
   "outputs": [],
   "execution_count": 8
  },
  {
   "metadata": {
    "ExecuteTime": {
     "end_time": "2024-08-13T06:21:19.117564Z",
     "start_time": "2024-08-13T06:21:19.096662Z"
    }
   },
   "cell_type": "code",
   "source": [
    "with open(\"AsyncFeil_reEncoded.b64\", \"w\") as f:\n",
    "    f.write(nsp_base64)"
   ],
   "id": "edf61aadae7dff2f",
   "outputs": [],
   "execution_count": 9
  },
  {
   "metadata": {
    "ExecuteTime": {
     "end_time": "2024-08-15T11:41:25.761697Z",
     "start_time": "2024-08-15T11:41:25.756265Z"
    }
   },
   "cell_type": "code",
   "source": [
    "loc = nsp_xml.find(\"Over\")\n",
    "nsp_xml[loc-150:loc+150]"
   ],
   "id": "f9b76ba939740f0",
   "outputs": [
    {
     "data": {
      "text/plain": [
       "'ddelUnderUtfoerelse><kraftverketsLoepenummer><heltall>4102</heltall></kraftverketsLoepenummer><aaretsFriinntekt><beloep><beloep>0</beloep></beloep><erOverstyrt><boolsk>true</boolsk></erOverstyrt></aaretsFriinntekt><konsumprisindeksjustertInvesteringskostnad><beloep><beloep>0</beloep></beloep><erOver'"
      ]
     },
     "execution_count": 14,
     "metadata": {},
     "output_type": "execute_result"
    }
   ],
   "execution_count": 14
  },
  {
   "metadata": {
    "ExecuteTime": {
     "end_time": "2024-08-15T11:42:58.161686Z",
     "start_time": "2024-08-15T11:42:58.107560Z"
    }
   },
   "cell_type": "code",
   "source": [
    "with open(\"AsyncFeil_reEncoded.xml\", \"w\") as f:\n",
    "    f.write(nsp_xml)"
   ],
   "id": "73d929603ae6ade8",
   "outputs": [],
   "execution_count": 15
  },
  {
   "metadata": {
    "ExecuteTime": {
     "end_time": "2024-08-16T10:29:31.133499Z",
     "start_time": "2024-08-16T09:58:37.346306Z"
    }
   },
   "cell_type": "code",
   "source": [
    "import brotli\n",
    "import zlib\n",
    "filer = [\n",
    "    # \"06_Statkraft_avledet_felter.xml\",\n",
    "    # \"06_Statkraft_93K_Anleggsmidler.xml\",\n",
    "    \"08_Statkraft_98K_Anleggsmidler.xml\",\n",
    "    \"08_Statkraft_98K_Anleggsmidler_avlede_felter.xml\",\n",
    "]\n",
    "\n",
    "for filnavn in filer:\n",
    "    \n",
    "    print(f\"Leser xml {filnavn}\")\n",
    "    \n",
    "    with open(filnavn, \"rb\") as f: \n",
    "        statskraft_xml = f.read()\n",
    "        \n",
    "    print(\"Komprimerer\")\n",
    "    statkraft_bortli = brotli.compress(statskraft_xml)\n",
    "    \n",
    "    print(\"lagrer fil\")\n",
    "    \n",
    "    with open(filnavn + \".br\", \"wb\") as f: \n",
    "        f.write(statkraft_bortli)\n",
    "    print(\"komprimerer som zip\")\n",
    "\n",
    "    compress = zlib.compressobj(wbits=16+zlib.MAX_WBITS)\n",
    "    statkraft_gzip = compress.compress(statskraft_xml) + compress.flush()\n",
    "    \n",
    "    with open (filnavn + \".gz\", \"wb\") as f:\n",
    "        f.write(statkraft_gzip)"
   ],
   "id": "ac7ce18ee0d4aeb3",
   "outputs": [
    {
     "name": "stdout",
     "output_type": "stream",
     "text": [
      "Leser xml 08_Statkraft_98K_Anleggsmidler.xml\n",
      "Komprimerer\n",
      "lagrer fil\n",
      "komprimerer som zip\n",
      "Leser xml 08_Statkraft_98K_Anleggsmidler_avlede_felter.xml\n",
      "Komprimerer\n",
      "lagrer fil\n",
      "komprimerer som zip\n"
     ]
    }
   ],
   "execution_count": 29
  },
  {
   "metadata": {
    "ExecuteTime": {
     "end_time": "2024-08-16T08:05:40.532502Z",
     "start_time": "2024-08-16T08:05:38.060547Z"
    }
   },
   "cell_type": "code",
   "source": [
    "print(\"komprimerer\")\n",
    "\n",
    "compress = zlib.compressobj(wbits=16+zlib.MAX_WBITS)\n",
    "statkraft_gzip = compress.compress(statskraft_xml) + compress.flush()\n",
    "\n",
    "with open (filnavn + \".gz\", \"wb\") as f: \n",
    "    f.write(statkraft_gzip)"
   ],
   "id": "7b03d371230e18bb",
   "outputs": [
    {
     "name": "stdout",
     "output_type": "stream",
     "text": [
      "komprimerer\n"
     ]
    }
   ],
   "execution_count": 23
  },
  {
   "metadata": {},
   "cell_type": "code",
   "outputs": [],
   "execution_count": null,
   "source": "import hashlib",
   "id": "be404e62ebdffeb2"
  }
 ],
 "metadata": {
  "kernelspec": {
   "display_name": "Python 3",
   "language": "python",
   "name": "python3"
  },
  "language_info": {
   "codemirror_mode": {
    "name": "ipython",
    "version": 2
   },
   "file_extension": ".py",
   "mimetype": "text/x-python",
   "name": "python",
   "nbconvert_exporter": "python",
   "pygments_lexer": "ipython2",
   "version": "2.7.6"
  }
 },
 "nbformat": 4,
 "nbformat_minor": 5
}
