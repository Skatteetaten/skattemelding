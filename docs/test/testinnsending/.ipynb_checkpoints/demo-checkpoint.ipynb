{
 "cells": [
  {
   "cell_type": "markdown",
   "metadata": {},
   "source": [
    "# DEMO nærings API"
   ]
  },
  {
   "cell_type": "markdown",
   "metadata": {},
   "source": [
    "Denne demoen er ment for å vise hvordan flyten for et sluttbrukersystem kan hente et utkast, gjøre endringer, validere/kontrollere det mot Skatteetatens apier, for å sende det inn via Altinn3"
   ]
  },
  {
   "cell_type": "code",
   "execution_count": null,
   "metadata": {},
   "outputs": [],
   "source": [
    "# eksterne avhengigheter\n",
    "!pip install python-jose[cryptography] cryptography"
   ]
  },
  {
   "cell_type": "code",
   "execution_count": 1,
   "metadata": {},
   "outputs": [],
   "source": [
    "from altinn3 import *\n",
    "from hent import main_relay, base64_decode_response, decode_dokument\n",
    "\n",
    "from http.server import BaseHTTPRequestHandler, HTTPServer\n",
    "import webbrowser\n",
    "from jose import jwt\n",
    "\n",
    "import requests\n",
    "import base64\n",
    "from base64 import urlsafe_b64encode, urlsafe_b64decode\n",
    "from urllib.parse import urlparse, parse_qs, quote\n",
    "from hashlib import sha256\n",
    "\n",
    "import random\n",
    "import time\n",
    "import xmltodict\n",
    "import xml.dom.minidom"
   ]
  },
  {
   "cell_type": "markdown",
   "metadata": {},
   "source": [
    "## Generer ID-porten token\n",
    "Tokenet er gyldig i 300 sekunder, rekjørt denne biten om du ikke har kommet frem til Altinn3 biten før 300 sekunder "
   ]
  },
  {
   "cell_type": "code",
   "execution_count": 2,
   "metadata": {},
   "outputs": [
    {
     "name": "stdout",
     "output_type": "stream",
     "text": [
      "https://oidc-ver2.difi.no/idporten-oidc-provider/authorize?scope=openid&acr_values=Level3&client_id=38e634d9-5682-44ae-9b60-db636efe3156&redirect_uri=http%3A%2F%2Flocalhost%3A12345%2Ftoken&response_type=code&state=OX_VNPtojUjHVmlrpU6vAQ&nonce=1600242747866359&resource=https%3A%2F%2Fmp-test.sits.no%2Fapi%2Feksterntapi%2Fformueinntekt%2Fskattemelding%2F&code_challenge=TnkeRCSSRxCR9IgoSke5rL4pWIXv0pA4_a6V4VYNCcM=&code_challenge_method=S256&ui_locales=nb\n"
     ]
    },
    {
     "name": "stderr",
     "output_type": "stream",
     "text": [
      "127.0.0.1 - - [16/Sep/2020 09:52:37] \"GET /token?code=bWG-JuDWUn_aB0M1EYAibez2mizhlXwQDuNNSSM2sjE&state=OX_VNPtojUjHVmlrpU6vAQ HTTP/1.1\" 200 -\n"
     ]
    },
    {
     "name": "stdout",
     "output_type": "stream",
     "text": [
      "Authorization token received\n",
      "The token is good, expires in 300 seconds\n",
      "\n",
      "Bearer eyJraWQiOiJjWmswME1rbTVIQzRnN3Z0NmNwUDVGSFpMS0pzdzhmQkFJdUZiUzRSVEQ0IiwiYWxnIjoiUlMyNTYifQ.eyJzdWIiOiJNM2QwanJodFRSS1JDeVYwYVh0eWZ2WVNpR3lQTktESTNTdTRfYTJybko4PSIsImlzcyI6Imh0dHBzOlwvXC9vaWRjLXZlcjIuZGlmaS5ub1wvaWRwb3J0ZW4tb2lkYy1wcm92aWRlclwvIiwiY2xpZW50X2FtciI6Im5vbmUiLCJwaWQiOiIwODA0NzIwMDMzNSIsInRva2VuX3R5cGUiOiJCZWFyZXIiLCJjbGllbnRfaWQiOiIzOGU2MzRkOS01NjgyLTQ0YWUtOWI2MC1kYjYzNmVmZTMxNTYiLCJhdWQiOiJodHRwczpcL1wvbXAtdGVzdC5zaXRzLm5vXC9hcGlcL2Vrc3Rlcm50YXBpXC9mb3JtdWVpbm50ZWt0XC9za2F0dGVtZWxkaW5nXC8iLCJhY3IiOiJMZXZlbDMiLCJzY29wZSI6Im9wZW5pZCIsImV4cCI6MTYwMDI0MzA1NywiaWF0IjoxNjAwMjQyNzU3LCJjbGllbnRfb3Jnbm8iOiI5NzQ3NjEwNzYiLCJqdGkiOiJmNTlhT0pSU1RPNUhFNVdfTGJBX3owYVdSNTJkbktyS1VwLURtUTJZNkI4IiwiY29uc3VtZXIiOnsiYXV0aG9yaXR5IjoiaXNvNjUyMy1hY3RvcmlkLXVwaXMiLCJJRCI6IjAxOTI6OTc0NzYxMDc2In19.aMGXJM5IvYAEAVEctPG8xxNFOVtKIRHu8mGdjK66pbNw7LabCRoaSD5wMUpVJUKe8JaublaWPz-JfSsuOdXTaJfOawFd3ydSOsa7cXEmImJjhCPtAJllteA4R51LCmm2MSOgGP1lW_utN1wtq4GUSIUMHzL8W3yu66pgdUNAZ0LVwL-4HD-ezrTfrZi_vw6cDcUCENY6oy3_6ibM28r3YKFxOXfZ7hMSZWnqltPbpiJBmocSY89lMZWRxTjrQhgSr_1ZotQmefVlBMGV4o0tp98wpuSyLBbVDeiOM7klqtqYdePsFAASqYfmxJIq-NIISg0KIvxGNzPEKwQoQeNkcw\n"
     ]
    }
   ],
   "source": [
    "idporten_header = main_relay()"
   ]
  },
  {
   "cell_type": "markdown",
   "metadata": {},
   "source": [
    "# Hent utkast og gjeldende\n",
    "Her legger vi inn fødselsnummeret vi logget oss inn med, Dersom du velger et annet fødselsnummer så må den du logget på med ha tilgang til skattemeldingen du ønsker å hente\n",
    "\n",
    "#### Parten nedenfor er brukt for internt test, pass på bruk deres egne testparter når dere tester\n",
    "\n",
    "29114501318 har fått en myndighetsfastsetting"
   ]
  },
  {
   "cell_type": "code",
   "execution_count": 4,
   "metadata": {
    "pycharm": {
     "name": "#%%\n"
    }
   },
   "outputs": [],
   "source": [
    "s = requests.Session()\n",
    "s.headers = dict(idporten_header)\n",
    "fnr=\"08047200335\" #oppdater med test fødselsnummerene du har fått tildelt"
   ]
  },
  {
   "cell_type": "markdown",
   "metadata": {},
   "source": [
    "### Utkast"
   ]
  },
  {
   "cell_type": "code",
   "execution_count": 5,
   "metadata": {},
   "outputs": [
    {
     "data": {
      "text/plain": [
       "<Response [200]>"
      ]
     },
     "execution_count": 5,
     "metadata": {},
     "output_type": "execute_result"
    }
   ],
   "source": [
    "url_utkast = f'https://mp-test.sits.no/api/eksterntapi/formueinntekt/skattemelding/utkast/2020/{fnr}'\n",
    "r = s.get(url_utkast)\n",
    "r"
   ]
  },
  {
   "cell_type": "markdown",
   "metadata": {},
   "source": [
    "### Gjeldende"
   ]
  },
  {
   "cell_type": "code",
   "execution_count": 6,
   "metadata": {},
   "outputs": [
    {
     "data": {
      "text/plain": [
       "<Response [200]>"
      ]
     },
     "execution_count": 6,
     "metadata": {},
     "output_type": "execute_result"
    }
   ],
   "source": [
    "url_gjeldende = f'https://mp-test.sits.no/api/eksterntapi/formueinntekt/skattemelding/2020/{fnr}'\n",
    "r_gjeldende = s.get(url_gjeldende)\n",
    "r_gjeldende"
   ]
  },
  {
   "cell_type": "markdown",
   "metadata": {},
   "source": [
    "### Fastsatt"
   ]
  },
  {
   "cell_type": "code",
   "execution_count": 7,
   "metadata": {},
   "outputs": [
    {
     "data": {
      "text/plain": [
       "<Response [400]>"
      ]
     },
     "execution_count": 7,
     "metadata": {},
     "output_type": "execute_result"
    }
   ],
   "source": [
    "url_fastsatt = f'https://mp-test.sits.no/api/eksterntapi/formueinntekt/skattemelding/fastsatt/2020/{fnr}'\n",
    "r_fastsatt = s.get(url_fastsatt)\n",
    "r_fastsatt"
   ]
  },
  {
   "cell_type": "markdown",
   "metadata": {
    "pycharm": {
     "name": "#%% md\n"
    }
   },
   "source": [
    "## Svar fra hent gjeldende (utkast)\n",
    "Legg merke til nytt element som viser en id for gjeldende skattemelding"
   ]
  },
  {
   "cell_type": "code",
   "execution_count": 8,
   "metadata": {
    "pycharm": {
     "name": "#%%\n"
    }
   },
   "outputs": [
    {
     "name": "stdout",
     "output_type": "stream",
     "text": [
      "<?xml version=\"1.0\" ?>\n",
      "<skattemeldingerOgNaeringsopplysningerforespoerselResponse xmlns=\"no:skatteetaten:fastsetting:formueinntekt:skattemeldingerognaeringsopplysninger:forespoersel:response:v1\">\n",
      "\t<dokumenter>\n",
      "\t\t<skattemeldingdokument>\n",
      "\t\t\t<id>SKI:138:7104</id>\n",
      "\t\t\t<encoding>utf-8</encoding>\n",
      "\t\t\t<content>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</content>\n",
      "\t\t\t<type>skattemeldingUtkastPersonligSkattepliktig</type>\n",
      "\t\t</skattemeldingdokument>\n",
      "\t</dokumenter>\n",
      "</skattemeldingerOgNaeringsopplysningerforespoerselResponse>\n",
      "\n"
     ]
    }
   ],
   "source": [
    "sjekk_svar = r_gjeldende\n",
    "\n",
    "sme_og_naering_respons = xmltodict.parse(sjekk_svar.text)\n",
    "skattemelding_base64 = sme_og_naering_respons[\"skattemeldingerOgNaeringsopplysningerforespoerselResponse\"][\"dokumenter\"][\"skattemeldingdokument\"]\n",
    "sme_utkast_base64 = skattemelding_base64[\"content\"]\n",
    "dokref = sme_og_naering_respons[\"skattemeldingerOgNaeringsopplysningerforespoerselResponse\"][\"dokumenter\"]['skattemeldingdokument']['id']\n",
    "\n",
    "decoded_xml = decode_dokument(skattemelding_base64)\n",
    "sme_utkast = xml.dom.minidom.parseString(decoded_xml[\"content\"]).toprettyxml()\n",
    "print(xml.dom.minidom.parseString(sjekk_svar.text).toprettyxml())"
   ]
  },
  {
   "cell_type": "markdown",
   "metadata": {
    "pycharm": {
     "name": "#%% md\n"
    }
   },
   "source": [
    "#### I responsen er skattemeldingdokument Base64 encodet, kjør cellen nedenfor for å se det decodet"
   ]
  },
  {
   "cell_type": "code",
   "execution_count": 9,
   "metadata": {
    "pycharm": {
     "name": "#%%\n"
    }
   },
   "outputs": [
    {
     "name": "stdout",
     "output_type": "stream",
     "text": [
      "**********\tBase64 decoded\n",
      "<?xml version=\"1.0\" ?>\n",
      "<skattemelding xmlns=\"urn:no:skatteetaten:fastsetting:formueinntekt:skattemelding:ekstern:v8\">\n",
      "\t<partsreferanse>3000025879</partsreferanse>\n",
      "\t<inntektsaar>2020</inntektsaar>\n",
      "\t<bankLaanOgForsikring>\n",
      "\t\t<konto>\n",
      "\t\t\t<id>95d38f456781b45b9c7d30daacbab2ac965745cc</id>\n",
      "\t\t\t<bankensNavn>\n",
      "\t\t\t\t<tekst>FJÆRLAND OG LARVIK REVISJON</tekst>\n",
      "\t\t\t</bankensNavn>\n",
      "\t\t\t<organisasjonsnummer>\n",
      "\t\t\t\t<organisasjonsnummer>910918885</organisasjonsnummer>\n",
      "\t\t\t</organisasjonsnummer>\n",
      "\t\t\t<kontonummer>\n",
      "\t\t\t\t<tekst>36866890217</tekst>\n",
      "\t\t\t</kontonummer>\n",
      "\t\t\t<innskudd>\n",
      "\t\t\t\t<beloep>\n",
      "\t\t\t\t\t<beloepINok>\n",
      "\t\t\t\t\t\t<beloepSomHeltall>428427</beloepSomHeltall>\n",
      "\t\t\t\t\t</beloepINok>\n",
      "\t\t\t\t\t<beloepIValuta>\n",
      "\t\t\t\t\t\t<beloep>428427</beloep>\n",
      "\t\t\t\t\t</beloepIValuta>\n",
      "\t\t\t\t\t<valutakode>\n",
      "\t\t\t\t\t\t<valutakode>NOK</valutakode>\n",
      "\t\t\t\t\t</valutakode>\n",
      "\t\t\t\t\t<valutakurs>\n",
      "\t\t\t\t\t\t<valutakurs>1</valutakurs>\n",
      "\t\t\t\t\t</valutakurs>\n",
      "\t\t\t\t</beloep>\n",
      "\t\t\t</innskudd>\n",
      "\t\t\t<opptjenteRenter>\n",
      "\t\t\t\t<beloep>\n",
      "\t\t\t\t\t<beloepINok>\n",
      "\t\t\t\t\t\t<beloepSomHeltall>9598</beloepSomHeltall>\n",
      "\t\t\t\t\t</beloepINok>\n",
      "\t\t\t\t\t<beloepIValuta>\n",
      "\t\t\t\t\t\t<beloep>9598</beloep>\n",
      "\t\t\t\t\t</beloepIValuta>\n",
      "\t\t\t\t\t<valutakode>\n",
      "\t\t\t\t\t\t<valutakode>NOK</valutakode>\n",
      "\t\t\t\t\t</valutakode>\n",
      "\t\t\t\t\t<valutakurs>\n",
      "\t\t\t\t\t\t<valutakurs>1</valutakurs>\n",
      "\t\t\t\t\t</valutakurs>\n",
      "\t\t\t\t</beloep>\n",
      "\t\t\t</opptjenteRenter>\n",
      "\t\t</konto>\n",
      "\t</bankLaanOgForsikring>\n",
      "\t<boligOgEiendeler>\n",
      "\t\t<kjoeretoey>\n",
      "\t\t\t<id>a07a7500-a541-4683-a29e-07c276564fa0</id>\n",
      "\t\t\t<kjennemerke>\n",
      "\t\t\t\t<tekst>UE24402</tekst>\n",
      "\t\t\t</kjennemerke>\n",
      "\t\t\t<aarForFoerstegangsregistrering>\n",
      "\t\t\t\t<aarstall>2010</aarstall>\n",
      "\t\t\t</aarForFoerstegangsregistrering>\n",
      "\t\t\t<formuesverdiForKjoeretoey>\n",
      "\t\t\t\t<beloep>\n",
      "\t\t\t\t\t<beloepINok>\n",
      "\t\t\t\t\t\t<beloepSomHeltall>0</beloepSomHeltall>\n",
      "\t\t\t\t\t</beloepINok>\n",
      "\t\t\t\t</beloep>\n",
      "\t\t\t</formuesverdiForKjoeretoey>\n",
      "\t\t</kjoeretoey>\n",
      "\t</boligOgEiendeler>\n",
      "\t<arbeidTrygdOgPensjon>\n",
      "\t\t<loennOgTilsvarendeYtelser>\n",
      "\t\t\t<arbeidsgiver>\n",
      "\t\t\t\t<id>06757ce691255d229c3f488f336a01a56fc692e8</id>\n",
      "\t\t\t\t<navn>\n",
      "\t\t\t\t\t<organisasjonsnavn>SYKKYLVEN OG LYNGØR REVISJON</organisasjonsnavn>\n",
      "\t\t\t\t</navn>\n",
      "\t\t\t\t<samledeYtelserFraArbeidsgiverPerBehandlingsart>\n",
      "\t\t\t\t\t<id>497768b1fd29ac74b59526c06531dd2e20539ad8</id>\n",
      "\t\t\t\t\t<beloep>\n",
      "\t\t\t\t\t\t<beloep>\n",
      "\t\t\t\t\t\t\t<beloepINok>\n",
      "\t\t\t\t\t\t\t\t<beloepSomHeltall>780900</beloepSomHeltall>\n",
      "\t\t\t\t\t\t\t</beloepINok>\n",
      "\t\t\t\t\t\t\t<beloepIValuta>\n",
      "\t\t\t\t\t\t\t\t<beloep>780900</beloep>\n",
      "\t\t\t\t\t\t\t</beloepIValuta>\n",
      "\t\t\t\t\t\t\t<valutakode>\n",
      "\t\t\t\t\t\t\t\t<valutakode>NOK</valutakode>\n",
      "\t\t\t\t\t\t\t</valutakode>\n",
      "\t\t\t\t\t\t\t<valutakurs>\n",
      "\t\t\t\t\t\t\t\t<valutakurs>1</valutakurs>\n",
      "\t\t\t\t\t\t\t</valutakurs>\n",
      "\t\t\t\t\t\t</beloep>\n",
      "\t\t\t\t\t</beloep>\n",
      "\t\t\t\t\t<behandlingsart>\n",
      "\t\t\t\t\t\t<tekst>LONN</tekst>\n",
      "\t\t\t\t\t</behandlingsart>\n",
      "\t\t\t\t</samledeYtelserFraArbeidsgiverPerBehandlingsart>\n",
      "\t\t\t\t<organisasjonsnummer>\n",
      "\t\t\t\t\t<organisasjonsnummer>910931822</organisasjonsnummer>\n",
      "\t\t\t\t</organisasjonsnummer>\n",
      "\t\t\t</arbeidsgiver>\n",
      "\t\t</loennOgTilsvarendeYtelser>\n",
      "\t\t<fagforeningskontingent>\n",
      "\t\t\t<id>3e411daffe9f602b8a6b5a78c64f6c538b63ccf0</id>\n",
      "\t\t\t<samletBetaltFagforeningskontingentPerSkattleggingsperiode>\n",
      "\t\t\t\t<beloep>\n",
      "\t\t\t\t\t<beloepINok>\n",
      "\t\t\t\t\t\t<beloepSomHeltall>4000</beloepSomHeltall>\n",
      "\t\t\t\t\t</beloepINok>\n",
      "\t\t\t\t\t<beloepIValuta>\n",
      "\t\t\t\t\t\t<beloep>4000</beloep>\n",
      "\t\t\t\t\t</beloepIValuta>\n",
      "\t\t\t\t\t<valutakode>\n",
      "\t\t\t\t\t\t<valutakode>NOK</valutakode>\n",
      "\t\t\t\t\t</valutakode>\n",
      "\t\t\t\t\t<valutakurs>\n",
      "\t\t\t\t\t\t<valutakurs>1</valutakurs>\n",
      "\t\t\t\t\t</valutakurs>\n",
      "\t\t\t\t</beloep>\n",
      "\t\t\t</samletBetaltFagforeningskontingentPerSkattleggingsperiode>\n",
      "\t\t</fagforeningskontingent>\n",
      "\t\t<minstefradragOgKostnader>\n",
      "\t\t\t<id>MINSTEFRADRAG_OG_KOSTNADER_KNYTTET_TIL_ARBEID_OG_ANNEN_INNTEKT</id>\n",
      "\t\t\t<fastsattFradragstype>minstefradragIInntekt</fastsattFradragstype>\n",
      "\t\t\t<minstefradragIInntekt>\n",
      "\t\t\t\t<beloep>\n",
      "\t\t\t\t\t<beloepINok>\n",
      "\t\t\t\t\t\t<beloepSomHeltall>104450</beloepSomHeltall>\n",
      "\t\t\t\t\t</beloepINok>\n",
      "\t\t\t\t</beloep>\n",
      "\t\t\t</minstefradragIInntekt>\n",
      "\t\t</minstefradragOgKostnader>\n",
      "\t</arbeidTrygdOgPensjon>\n",
      "</skattemelding>\n",
      "\n"
     ]
    }
   ],
   "source": [
    "print(\"*\"*10+\"\\tBase64 decoded\")\n",
    "print(sme_utkast)"
   ]
  },
  {
   "cell_type": "markdown",
   "metadata": {
    "pycharm": {
     "name": "#%% md\n"
    }
   },
   "source": [
    "## Se skattemeldingen i SME \n",
    "https://skatt-ref.sits.no/web/skattemeldingen/2020\n",
    "\n",
    "# Oppdater skattemeldingen og næringsmeldingen\n",
    "### Oppdater Skattemeldingen\n",
    "Som dere ser fra skattemeldingen, mangler kjøretøyet pris som ny. Nedenfor har dere xml elementet som mangler for kjøretøy som ny"
   ]
  },
  {
   "cell_type": "code",
   "execution_count": 10,
   "metadata": {},
   "outputs": [],
   "source": [
    "sme_dict = xmltodict.parse(sme_utkast)"
   ]
  },
  {
   "cell_type": "markdown",
   "metadata": {},
   "source": []
  },
  {
   "cell_type": "code",
   "execution_count": null,
   "metadata": {},
   "outputs": [],
   "source": []
  },
  {
   "cell_type": "code",
   "execution_count": null,
   "metadata": {
    "pycharm": {
     "name": "#%%\n"
    }
   },
   "outputs": [],
   "source": [
    "listepris_som_ny = \"\"\"\n",
    "      <antattVerdiSomNyttKjoeretoey>\n",
    "        <beloep>\n",
    "          <beloepINok>\n",
    "            <beloepSomHeltall>12345</beloepSomHeltall>\n",
    "          </beloepINok>\n",
    "          <beloepIValuta>\n",
    "            <beloep>12345</beloep>\n",
    "          </beloepIValuta>\n",
    "          <valutakode>\n",
    "            <valutakode>NOK</valutakode>\n",
    "          </valutakode>\n",
    "          <valutakurs>\n",
    "            <valutakurs>1</valutakurs>\n",
    "          </valutakurs>\n",
    "        </beloep>\n",
    "      </antattVerdiSomNyttKjoeretoey>\"\"\"\n",
    "\n",
    "sme_xml = \"\"\"\n",
    "<?xml version=\"1.0\" ?>\n",
    "<skattemelding xmlns=\"urn:no:skatteetaten:fastsetting:formueinntekt:skattemelding:ekstern:v8\">\n",
    "\t<partsreferanse>22257666</partsreferanse>\n",
    "\t<inntektsaar>2020</inntektsaar>\n",
    "\t<boligOgEiendeler>\n",
    "\t\t<kjoeretoey>\n",
    "\t\t\t<id>105f0ea50109de48fb456368f36c2243c97a8898</id>\n",
    "\t\t\t<kjennemerke>\n",
    "\t\t\t\t<tekst>313</tekst>\n",
    "\t\t\t</kjennemerke>\n",
    "\t\t\t<aarForFoerstegangsregistrering>\n",
    "\t\t\t\t<aarstall>1999</aarstall>\n",
    "\t\t\t</aarForFoerstegangsregistrering>\n",
    "            {listepris_som_ny}\n",
    "\t\t\t<formuesverdiForKjoeretoey>\n",
    "\t\t\t\t<beloep>\n",
    "\t\t\t\t\t<beloepSomHeltall>1000</beloepSomHeltall>\n",
    "\t\t\t\t</beloep>\n",
    "\t\t\t</formuesverdiForKjoeretoey>\n",
    "\t\t</kjoeretoey>\n",
    "\t</boligOgEiendeler>\n",
    "\t<skattemeldingOpprettet>\n",
    "\t\t<brukeridentifikator>ikke-implementert</brukeridentifikator>\n",
    "\t\t<brukeridentifikatortype>systemidentifikator</brukeridentifikatortype>\n",
    "\t\t<opprettetDato>2020-09-14T13:40:01.328641Z</opprettetDato>\n",
    "\t</skattemeldingOpprettet>\n",
    "</skattemelding>\n",
    "\n",
    "\"\"\".format(listepris_som_ny=listepris_som_ny)\n",
    "\n",
    "sme_xml = sme_xml.replace('\\t','').replace('\\n','')\n",
    "sme_xml_fix_base64 = base64.b64encode(sme_xml.encode(\"utf-8\"))\n",
    "sme_xml_fix_base64 = str(sme_xml_fix_base64.decode(\"utf-8\"))\n",
    "\n",
    "#Dette fungerer bare med myndighestfastsatt beløp på 1234567\n",
    "sme_endret_myndighetsfastsetting = sme_xml.replace(\"1234567\",\"7654321\")\n",
    "sme_endret_myndighetsfastsetting_b64 = base64.b64encode(sme_endret_myndighetsfastsetting.encode(\"utf-8\"))\n",
    "sme_endret_myndighetsfastsetting_b64 = str(sme_endret_myndighetsfastsetting_b64.decode(\"utf-8\"))"
   ]
  },
  {
   "cell_type": "markdown",
   "metadata": {
    "pycharm": {
     "name": "#%% md\n"
    }
   },
   "source": [
    "## Næring xml\n",
    "Her lager vi to nærings xml, en med en feil beløp i sumDriftsinntekt og en der dette er rettet"
   ]
  },
  {
   "cell_type": "code",
   "execution_count": null,
   "metadata": {
    "pycharm": {
     "name": "#%%\n"
    }
   },
   "outputs": [],
   "source": [
    "sumDriftsinntekt_korrekt = \"417\"\n",
    "sumDriftsinntekt_feil = \"42\"\n",
    "naering_xml = \"\"\"\n",
    "<naeringsopplysninger xmlns=\"urn:no:skatteetaten:fastsetting:formueinntekt:naeringsopplysninger:ekstern:v1\">\n",
    "    <partsreferanse>22257666</partsreferanse>\n",
    "    <inntektsaar>2020</inntektsaar>\n",
    "    <resultatregnskap>\n",
    "        <driftsinntekt>\n",
    "            <salgsinntekt>\n",
    "                <id>1</id>\n",
    "                <salgsinntektstype>\n",
    "                    <salgsinntektstype>4560</salgsinntektstype>\n",
    "                </salgsinntektstype>\n",
    "                <beloep>\n",
    "                    <beloep>\n",
    "                        <beloep>100</beloep>\n",
    "                    </beloep>\n",
    "                </beloep>\n",
    "            </salgsinntekt>\n",
    "            <salgsinntekt>\n",
    "                <id>2</id>\n",
    "                <salgsinntektstype>\n",
    "                    <salgsinntektstype>4560</salgsinntektstype>\n",
    "                </salgsinntektstype>\n",
    "                <beloep>\n",
    "                    <beloep>\n",
    "                        <beloep>17</beloep>\n",
    "                    </beloep>\n",
    "                </beloep>\n",
    "            </salgsinntekt>\n",
    "            <annenDriftsinntekt>\n",
    "                <id>1</id>\n",
    "                <annenDriftsinntektstype>\n",
    "                    <annenDriftsinntektstype>100</annenDriftsinntektstype>\n",
    "                </annenDriftsinntektstype>\n",
    "                <beloep>\n",
    "                    <beloep>\n",
    "                        <beloep>100</beloep>\n",
    "                    </beloep>\n",
    "                </beloep>\n",
    "            </annenDriftsinntekt>\n",
    "            <annenDriftsinntekt>\n",
    "                <id>2</id>\n",
    "                <annenDriftsinntektstype>\n",
    "                    <annenDriftsinntektstype>200</annenDriftsinntektstype>\n",
    "                </annenDriftsinntektstype>\n",
    "                <beloep>\n",
    "                    <beloep>\n",
    "                        <beloep>217</beloep>\n",
    "                    </beloep>\n",
    "                </beloep>\n",
    "            </annenDriftsinntekt>\n",
    "            <annenDriftsinntekt>\n",
    "                <id>3</id>\n",
    "                <annenDriftsinntektstype>\n",
    "                    <annenDriftsinntektstype>700</annenDriftsinntektstype>\n",
    "                </annenDriftsinntektstype>\n",
    "                <beloep>\n",
    "                    <beloep>\n",
    "                        <beloep>-17</beloep>\n",
    "                    </beloep>\n",
    "                </beloep>\n",
    "            </annenDriftsinntekt>\n",
    "            <sumDriftsinntekt>\n",
    "                <beloep>\n",
    "                    <beloep>{sumBelop}</beloep>\n",
    "                </beloep>\n",
    "            </sumDriftsinntekt>\n",
    "        </driftsinntekt>\n",
    "        <sumEkstraordinaerPost>\n",
    "            <beloep>\n",
    "                <beloep>0</beloep>\n",
    "            </beloep>\n",
    "        </sumEkstraordinaerPost>\n",
    "        <sumSkattekostnad>\n",
    "            <beloep>\n",
    "                <beloep>0</beloep>\n",
    "            </beloep>\n",
    "        </sumSkattekostnad>\n",
    "        <aarsresultat>\n",
    "            <beloep>\n",
    "                <beloep>417</beloep>\n",
    "            </beloep>\n",
    "        </aarsresultat>\n",
    "    </resultatregnskap>\n",
    "    \n",
    "   <virksomhet>\n",
    "        <regnskapspliktstype>\n",
    "            <regnskapspliktstype>1</regnskapspliktstype>\n",
    "        </regnskapspliktstype>\n",
    "        <selskapstype>\n",
    "            <selskapstype>aksjeselskap</selskapstype>\n",
    "        </selskapstype>\n",
    "    </virksomhet>\n",
    "    \n",
    "</naeringsopplysninger>\n",
    "\"\"\"\n",
    "naeringsopplysninger_base64_feil = base64.b64encode(naering_xml.format(sumBelop=sumDriftsinntekt_feil).encode(\"utf-8\"))\n",
    "naeringsopplysninger_base64_feil = str(naeringsopplysninger_base64_feil.decode(\"utf-8\"))\n",
    "\n",
    "naeringsopplysninger_korrekt = naering_xml.format(sumBelop=sumDriftsinntekt_korrekt)\n",
    "\n",
    "naeringsopplysninger_base64_korrekt = base64.b64encode(naeringsopplysninger_korrekt.encode(\"utf-8\"))\n",
    "naeringsopplysninger_base64_korrekt = str(naeringsopplysninger_base64_korrekt.decode(\"utf-8\"))"
   ]
  },
  {
   "cell_type": "code",
   "execution_count": null,
   "metadata": {},
   "outputs": [],
   "source": [
    "valider_konvolutt = \"\"\"\n",
    "<skattemeldingerOgNaeringsopplysningerRequest xmlns=\"no:skatteetaten:fastsetting:formueinntekt:skattemeldingerognaeringsopplysninger:request:v1\">\n",
    "<dokumenter>\n",
    "    <dokument>\n",
    "        <type>skattemeldingPersonligSkattepliktig</type>\n",
    "        <encoding>utf-8</encoding>\n",
    "        <content>{skattemeldingPersonligSkattepliktig_base64}</content>\n",
    "    </dokument>\n",
    "    <dokument>\n",
    "        <type>naeringsopplysninger</type>\n",
    "        <encoding>utf-8</encoding>\n",
    "        <content>{naeringsopplysninger_base64}</content>\n",
    "    </dokument>\n",
    "</dokumenter>\n",
    "<dokumentreferanseTilGjeldendeDokument>\n",
    "        <dokumenttype>skattemeldingPersonligSkattepliktig</dokumenttype>\n",
    "        <dokumentidentifikator>{dok_ref}</dokumentidentifikator>\n",
    "    </dokumentreferanseTilGjeldendeDokument>\n",
    "</skattemeldingerOgNaeringsopplysningerRequest>\n",
    "\"\"\".replace(\"\\n\",\"\")\n"
   ]
  },
  {
   "cell_type": "code",
   "execution_count": null,
   "metadata": {},
   "outputs": [],
   "source": [
    "valider_payload_utkast = valider_konvolutt.format(\n",
    "    skattemeldingPersonligSkattepliktig_base64=sme_utkast_base64,\n",
    "    naeringsopplysninger_base64=str(naeringsopplysninger_base64_feil),\n",
    "    dok_ref=dokref)\n",
    "\n",
    "valider_payload_fix = valider_konvolutt.format(\n",
    "    skattemeldingPersonligSkattepliktig_base64=sme_xml_fix_base64,\n",
    "    naeringsopplysninger_base64=naeringsopplysninger_base64_korrekt,\n",
    "    dok_ref=dokref)\n",
    "\n",
    "endret_myndighetsfastetting_payload = valider_konvolutt.format(\n",
    "    skattemeldingPersonligSkattepliktig_base64=sme_endret_myndighetsfastsetting_b64,\n",
    "    naeringsopplysninger_base64=naeringsopplysninger_base64_korrekt,\n",
    "    dok_ref=dokref)"
   ]
  },
  {
   "cell_type": "code",
   "execution_count": null,
   "metadata": {},
   "outputs": [],
   "source": [
    "def valider_sme(payload):\n",
    "    url_valider = f'https://mp-test.sits.no/api/eksterntapi/formueinntekt/skattemelding/valider/2020/{fnr}'\n",
    "    header = dict(idporten_header)\n",
    "    header[\"content-type\"] = \"application/xml\"\n",
    "    return s.post(url_valider, headers=header, data=payload)\n",
    "    \n"
   ]
  },
  {
   "cell_type": "markdown",
   "metadata": {
    "pycharm": {
     "name": "#%% md\n"
    }
   },
   "source": [
    "# Valider utkast sme med næringsopplysninger med feil sum"
   ]
  },
  {
   "cell_type": "code",
   "execution_count": null,
   "metadata": {
    "pycharm": {
     "name": "#%%\n"
    }
   },
   "outputs": [],
   "source": [
    "valider_respons = valider_sme(valider_payload_utkast)\n",
    "valider_respons"
   ]
  },
  {
   "cell_type": "code",
   "execution_count": null,
   "metadata": {},
   "outputs": [],
   "source": [
    "valider_respons.request.body"
   ]
  },
  {
   "cell_type": "markdown",
   "metadata": {
    "pycharm": {
     "name": "#%% md\n"
    }
   },
   "source": [
    "## Valideringsresultat av utkast og næringsoppgave"
   ]
  },
  {
   "cell_type": "code",
   "execution_count": null,
   "metadata": {
    "pycharm": {
     "name": "#%%\n"
    }
   },
   "outputs": [],
   "source": [
    "print(xml.dom.minidom.parseString(valider_respons.text).toprettyxml())"
   ]
  },
  {
   "cell_type": "markdown",
   "metadata": {
    "pycharm": {
     "name": "#%% md\n"
    }
   },
   "source": [
    "## Vis valideringer i SME \n",
    "En kan åpne skattemeldingen og se de samme valideringsresultatene for skattemeldingen\n",
    "https://skatt-ref.sits.no/web/skattemeldingen/2020"
   ]
  },
  {
   "cell_type": "markdown",
   "metadata": {},
   "source": [
    "## Valider sme med fikset bil og sumpost i næring"
   ]
  },
  {
   "cell_type": "code",
   "execution_count": null,
   "metadata": {
    "pycharm": {
     "name": "#%%\n"
    }
   },
   "outputs": [],
   "source": [
    "valider_respons_fix = valider_sme(valider_payload_fix)\n",
    "valider_respons_fix"
   ]
  },
  {
   "cell_type": "code",
   "execution_count": null,
   "metadata": {},
   "outputs": [],
   "source": [
    "valider_respons_fix.request.body"
   ]
  },
  {
   "cell_type": "code",
   "execution_count": null,
   "metadata": {},
   "outputs": [],
   "source": [
    "#valider_respons_fix.text\n",
    "ppxml = xml.dom.minidom.parseString(valider_respons_fix.text).toprettyxml()\n",
    "start = ppxml.find(\"<avvikEtterBeregning>\")\n",
    "slutt = ppxml.find(\"</avvikEtterBeregning>\")  + len(\"</avvikEtterBeregning>\")\n",
    "#print(ppxml[start:slutt])\n",
    "print(ppxml)"
   ]
  },
  {
   "cell_type": "markdown",
   "metadata": {},
   "source": [
    "# Endre på et myndighetsfastsatt verdi"
   ]
  },
  {
   "cell_type": "code",
   "execution_count": null,
   "metadata": {},
   "outputs": [],
   "source": [
    "endret_myndighetsfastsetting_response = valider_sme(endret_myndighetsfastetting_payload)\n",
    "endret_myndighetsfastsetting_response"
   ]
  },
  {
   "cell_type": "markdown",
   "metadata": {
    "pycharm": {
     "name": "#%% md\n"
    }
   },
   "source": [
    "# Altinn 3"
   ]
  },
  {
   "cell_type": "markdown",
   "metadata": {
    "pycharm": {
     "name": "#%% md\n"
    }
   },
   "source": [
    "## 1. Hent Altinn Token"
   ]
  },
  {
   "cell_type": "code",
   "execution_count": null,
   "metadata": {
    "pycharm": {
     "name": "#%%\n"
    }
   },
   "outputs": [],
   "source": [
    "altinn_header = hent_altinn_token(idporten_header)\n",
    "party_id = hent_party_id(altinn_header)"
   ]
  },
  {
   "cell_type": "markdown",
   "metadata": {},
   "source": [
    "## 2. Opprett ny Instans i Altinn3"
   ]
  },
  {
   "cell_type": "code",
   "execution_count": null,
   "metadata": {},
   "outputs": [],
   "source": [
    "instans_data = opprett_ny_instans(altinn_header, party_id)\n",
    "instans_data"
   ]
  },
  {
   "cell_type": "markdown",
   "metadata": {},
   "source": [
    "## Last opp metadata (skattemelding_V1)"
   ]
  },
  {
   "cell_type": "code",
   "execution_count": null,
   "metadata": {},
   "outputs": [],
   "source": [
    "metadata_xml = \"\"\"\n",
    "<?xml version=\"1.0\" encoding=\"utf-8\"?>\n",
    "<SkattemeldingApp xmlns:xsi=\"http://www.w3.org/2001/XMLSchema-instance\" xmlns:xsd=\"http://www.w3.org/2001/XMLSchema\">\n",
    "    <partsreferanse>str1234</partsreferanse>\n",
    "    <inntektsaar>2020</inntektsaar>\n",
    "    <innsendingstype>Komplett</innsendingstype>\n",
    "    <opprettetAv>TurboSkatt AS..</opprettetAv>\n",
    "    <opprettingstidspunkt>2012-06-03T12:12:12</opprettingstidspunkt>\n",
    "    <endringstidspunkt>2012-06-03T12:12:12</endringstidspunkt>\n",
    "</SkattemeldingApp>\"\"\".replace(\"\\n\",\"\")"
   ]
  },
  {
   "cell_type": "code",
   "execution_count": null,
   "metadata": {
    "pycharm": {
     "name": "#%%\n"
    }
   },
   "outputs": [],
   "source": [
    "req_metadata = last_opp_metadata(instans_data, altinn_header, xml=metadata_xml)\n",
    "req_metadata"
   ]
  },
  {
   "cell_type": "markdown",
   "metadata": {
    "pycharm": {
     "name": "#%% md\n"
    }
   },
   "source": [
    "## Last opp skattemelding"
   ]
  },
  {
   "cell_type": "code",
   "execution_count": null,
   "metadata": {},
   "outputs": [],
   "source": [
    "req_send_inn = last_opp_skattedata(instans_data, altinn_header, xml=valider_payload_fix)\n",
    "req_send_inn"
   ]
  },
  {
   "cell_type": "markdown",
   "metadata": {},
   "source": [
    "### Sett prosses til neste steg - Bekreftelse"
   ]
  },
  {
   "cell_type": "code",
   "execution_count": null,
   "metadata": {},
   "outputs": [],
   "source": [
    "req_bekreftelse = endre_prosess_status(instans_data, altinn_header, \"next\")\n",
    "req_bekreftelse"
   ]
  },
  {
   "cell_type": "markdown",
   "metadata": {},
   "source": [
    "### Sett prosses til neste steg - Tilbakemelding"
   ]
  },
  {
   "cell_type": "code",
   "execution_count": null,
   "metadata": {},
   "outputs": [],
   "source": [
    "req_bekreftelse = endre_prosess_status(instans_data, altinn_header, \"next\")\n",
    "req_bekreftelse"
   ]
  },
  {
   "cell_type": "markdown",
   "metadata": {},
   "source": [
    "### Se innsending i Altinn\n",
    "\n",
    "Ta en slurk av kaffen og klapp deg selv på ryggen, du har nå sendt inn, la byråkratiet gjøre sin ting... og det tar litt tid"
   ]
  },
  {
   "cell_type": "code",
   "execution_count": null,
   "metadata": {
    "pycharm": {
     "name": "#%%\n"
    }
   },
   "outputs": [],
   "source": [
    "instans_id=instans_data['id']\n",
    "url = f'https://skd.apps.tt02.altinn.no/skd/sirius-skattemelding-v1#/instance/{instans_id}'\n",
    "print(url)"
   ]
  }
 ],
 "metadata": {
  "kernelspec": {
   "display_name": "Python 3",
   "language": "python",
   "name": "python3"
  },
  "language_info": {
   "codemirror_mode": {
    "name": "ipython",
    "version": 3
   },
   "file_extension": ".py",
   "mimetype": "text/x-python",
   "name": "python",
   "nbconvert_exporter": "python",
   "pygments_lexer": "ipython3",
   "version": "3.7.6"
  }
 },
 "nbformat": 4,
 "nbformat_minor": 4
}