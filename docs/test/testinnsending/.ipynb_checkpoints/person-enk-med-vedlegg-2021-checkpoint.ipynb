{
 "cells": [
  {
   "cell_type": "markdown",
   "metadata": {},
   "source": [
    "# Testinnsening av person skattemelding med næringspesifikasjon"
   ]
  },
  {
   "cell_type": "markdown",
   "metadata": {},
   "source": [
    "Denne demoen er ment for å vise hvordan flyten for et sluttbrukersystem kan hente et utkast, gjøre endringer, validere/kontrollere det mot Skatteetatens apier, for å sende det inn via Altinn3"
   ]
  },
  {
   "cell_type": "code",
   "execution_count": null,
   "metadata": {},
   "outputs": [],
   "source": [
    "try: \n",
    "    from altinn3 import *\n",
    "    from skatteetaten_api import main_relay, base64_decode_response, decode_dokument\n",
    "    import requests\n",
    "    import base64\n",
    "    import xmltodict\n",
    "    import xml.dom.minidom\n",
    "    from pathlib import Path\n",
    "except ImportError as e:\n",
    "    print(\"Mangler en avhengighet, installer dem via pip\")\n",
    "    !pip install python-jose\n",
    "    !pip install xmltodict\n",
    "    !pip install pathlib\n",
    "    import xmltodict\n",
    "    from skatteetaten_api import main_relay, base64_decode_response, decode_dokument\n",
    "\n",
    "    \n",
    "#hjelpe metode om du vil se en request printet som curl \n",
    "def print_request_as_curl(r):\n",
    "    command = \"curl -X {method} -H {headers} -d '{data}' '{uri}'\"\n",
    "    method = r.request.method\n",
    "    uri = r.request.url\n",
    "    data = r.request.body\n",
    "    headers = ['\"{0}: {1}\"'.format(k, v) for k, v in r.request.headers.items()]\n",
    "    headers = \" -H \".join(headers)\n",
    "    print(command.format(method=method, headers=headers, data=data, uri=uri))"
   ]
  },
  {
   "cell_type": "markdown",
   "metadata": {},
   "source": [
    "## Generer ID-porten token\n",
    "Tokenet er gyldig i 300 sekunder, rekjørt denne biten om du ikke har kommet frem til Altinn3 biten før 300 sekunder "
   ]
  },
  {
   "cell_type": "code",
   "execution_count": null,
   "metadata": {},
   "outputs": [],
   "source": [
    "idporten_header = main_relay()"
   ]
  },
  {
   "cell_type": "markdown",
   "metadata": {},
   "source": [
    "# Hent utkast og gjeldende\n",
    "Her legger vi inn fødselsnummeret vi logget oss inn med, Dersom du velger et annet fødselsnummer så må den du logget på med ha tilgang til skattemeldingen du ønsker å hente\n",
    "\n",
    "#### Parten nedenfor er brukt for internt test, pass på bruk deres egne testparter når dere tester\n",
    "\n",
    "01014700230 har fått en myndighetsfastsetting\n",
    "\n",
    "Legg merke til `/api/skattemelding/v2/` biten av url'n er ny for 2021"
   ]
  },
  {
   "cell_type": "code",
   "execution_count": null,
   "metadata": {
    "pycharm": {
     "name": "#%%\n"
    }
   },
   "outputs": [],
   "source": [
    "s = requests.Session()\n",
    "s.headers = dict(idporten_header)\n",
    "fnr=\"01014700230\" #oppdater med test fødselsnummerene du har fått tildelt"
   ]
  },
  {
   "cell_type": "markdown",
   "metadata": {},
   "source": [
    "### Utkast"
   ]
  },
  {
   "cell_type": "code",
   "execution_count": null,
   "metadata": {},
   "outputs": [],
   "source": [
    "url_utkast = f'https://mp-test.sits.no/api/skattemelding/v2/utkast/2021/{fnr}'\n",
    "r = s.get(url_utkast)\n",
    "r"
   ]
  },
  {
   "cell_type": "markdown",
   "metadata": {},
   "source": [
    "### Gjeldende"
   ]
  },
  {
   "cell_type": "code",
   "execution_count": null,
   "metadata": {},
   "outputs": [],
   "source": [
    "url_gjeldende = f'https://mp-test.sits.no/api/skattemelding/v2/2021/{fnr}'\n",
    "r_gjeldende = s.get(url_gjeldende)\n",
    "r_gjeldende"
   ]
  },
  {
   "cell_type": "markdown",
   "metadata": {},
   "source": [
    "#### Fastsatt\n",
    "Her får en _http 404_ om vedkommende ikke har noen fastsetting, rekjørt denne etter du har sendt inn og fått tilbakemdling i Altinn at den har blitt behandlet, du skal nå ha en fastsatt skattemelding om den har blitt sent inn som Komplett"
   ]
  },
  {
   "cell_type": "code",
   "execution_count": null,
   "metadata": {},
   "outputs": [],
   "source": [
    "url_fastsatt = f'https://mp-test.sits.no/api/skattemelding/v2/fastsatt/2021/{fnr}'\n",
    "r_fastsatt = s.get(url_fastsatt)\n",
    "r_fastsatt"
   ]
  },
  {
   "cell_type": "markdown",
   "metadata": {
    "pycharm": {
     "name": "#%% md\n"
    }
   },
   "source": [
    "## Svar fra hent gjeldende \n",
    "\n",
    "### Gjeldende dokument referanse: \n",
    "I responsen på alle api kallene, være seg utkast/fastsatt eller gjeldene, så følger det med en dokumentreferanse. \n",
    "For å kalle valider tjenesten, er en avhengig av å bruke korrekt referanse til gjeldende skattemelding. \n",
    "\n",
    "Cellen nedenfor henter ut gjeldende dokumentrefranse printer ut responsen fra hent gjeldende kallet "
   ]
  },
  {
   "cell_type": "code",
   "execution_count": null,
   "metadata": {
    "pycharm": {
     "name": "#%%\n"
    }
   },
   "outputs": [],
   "source": [
    "sjekk_svar = r_gjeldende\n",
    "\n",
    "sme_og_naering_respons = xmltodict.parse(sjekk_svar.text)\n",
    "skattemelding_base64 = sme_og_naering_respons[\"skattemeldingOgNaeringsspesifikasjonforespoerselResponse\"][\"dokumenter\"][\"skattemeldingdokument\"]\n",
    "sme_base64 = skattemelding_base64[\"content\"]\n",
    "dokref = sme_og_naering_respons[\"skattemeldingOgNaeringsspesifikasjonforespoerselResponse\"][\"dokumenter\"]['skattemeldingdokument']['id']\n",
    "decoded_sme_xml = decode_dokument(skattemelding_base64)\n",
    "sme_utkast = xml.dom.minidom.parseString(decoded_sme_xml[\"content\"]).toprettyxml()\n",
    "\n",
    "print(f\"Responsen fra hent gjeldende ser slik ut, gjeldende dokumentrerefanse er {dokref}\\n\")\n",
    "print(xml.dom.minidom.parseString(sjekk_svar.text).toprettyxml())\n"
   ]
  },
  {
   "cell_type": "code",
   "execution_count": null,
   "metadata": {},
   "outputs": [],
   "source": [
    "with open(\"../../../src/resources/eksempler/v2/Naeringspesifikasjon-enk-v2.xml\", 'r') as f:\n",
    "    naering_enk_xml = f.read()\n",
    "    \n",
    "innsendingstype = \"ikkeKomplett\"\n",
    "naeringsspesifikasjoner_enk_b64 = base64.b64encode(naering_enk_xml.encode(\"utf-8\"))\n",
    "naeringsspesifikasjoner_enk_b64 = str(naeringsspesifikasjoner_enk_b64.decode(\"utf-8\"))\n",
    "skattemeldingPersonligSkattepliktig_base64=sme_base64 #bruker utkastet uten noen endringer\n",
    "naeringsspesifikasjoner_base64=naeringsspesifikasjoner_enk_b64\n",
    "dok_ref=dokref\n",
    "\n",
    "valider_konvlutt_v2 = \"\"\"\n",
    "<?xml version=\"1.0\" encoding=\"utf-8\" ?>\n",
    "<skattemeldingOgNaeringsspesifikasjonRequest xmlns=\"no:skatteetaten:fastsetting:formueinntekt:skattemeldingognaeringsspesifikasjon:request:v2\">\n",
    "    <dokumenter>\n",
    "        <dokument>\n",
    "            <type>skattemeldingPersonlig</type>\n",
    "            <encoding>utf-8</encoding>\n",
    "            <content>{sme_base64}</content>\n",
    "        </dokument>\n",
    "        <dokument>\n",
    "            <type>naeringsspesifikasjon</type>\n",
    "            <encoding>utf-8</encoding>\n",
    "            <content>{naeringsspeifikasjon_base64}</content>\n",
    "        </dokument>\n",
    "    </dokumenter>\n",
    "    <dokumentreferanseTilGjeldendeDokument>\n",
    "        <dokumenttype>skattemeldingPersonlig</dokumenttype>\n",
    "        <dokumentidentifikator>{dok_ref}</dokumentidentifikator>\n",
    "    </dokumentreferanseTilGjeldendeDokument>\n",
    "    <inntektsaar>2021</inntektsaar>\n",
    "    <innsendingsinformasjon>\n",
    "        <innsendingstype>{innsendingstype}</innsendingstype>\n",
    "        <opprettetAv>TurboSkatt</opprettetAv>\n",
    "    </innsendingsinformasjon>\n",
    "</skattemeldingOgNaeringsspesifikasjonRequest>\n",
    "\"\"\".replace(\"\\n\",\"\")\n",
    "\n",
    "\n",
    "naering_enk = valider_konvlutt_v2.format(sme_base64=skattemeldingPersonligSkattepliktig_base64,\n",
    "                                         naeringsspeifikasjon_base64=naeringsspesifikasjoner_base64,\n",
    "                                         dok_ref=dok_ref,\n",
    "                                        innsendingstype=innsendingstype)"
   ]
  },
  {
   "cell_type": "markdown",
   "metadata": {
    "pycharm": {
     "name": "#%% md\n"
    }
   },
   "source": [
    "# Valider utkast sme med næringsopplysninger"
   ]
  },
  {
   "cell_type": "code",
   "execution_count": null,
   "metadata": {
    "pycharm": {
     "name": "#%%\n"
    }
   },
   "outputs": [],
   "source": [
    "def valider_sme(payload):\n",
    "    url_valider = f'https://mp-test.sits.no/api/skattemelding/v2/valider/2021/{fnr}'\n",
    "    header = dict(idporten_header)\n",
    "    header[\"Content-Type\"] = \"application/xml\"\n",
    "    return s.post(url_valider, headers=header, data=payload)\n",
    "\n",
    "\n",
    "valider_respons = valider_sme(naering_enk)\n",
    "resultatAvValidering = xmltodict.parse(valider_respons.text)[\"skattemeldingerOgNaeringsspesifikasjonResponse\"][\"resultatAvValidering\"]\n",
    "\n",
    "if valider_respons:\n",
    "    print(resultatAvValidering)\n",
    "    print()\n",
    "    print(xml.dom.minidom.parseString(valider_respons.text).toprettyxml())\n",
    "else:\n",
    "    print(valider_respons.status_code, valider_respons.headers, valider_respons.text)"
   ]
  },
  {
   "cell_type": "markdown",
   "metadata": {
    "pycharm": {
     "name": "#%% md\n"
    }
   },
   "source": [
    "# Altinn 3"
   ]
  },
  {
   "cell_type": "markdown",
   "metadata": {
    "pycharm": {
     "name": "#%% md\n"
    }
   },
   "source": [
    "1. Hent Altinn Token\n",
    "2. Oppretter en ny instans av skjemaet\n",
    "3. lasteropp metadata til skjemaet\n",
    "4. last opp vedlegg til skattemeldingen\n",
    "5. oppdater skattemelding xml med referanse til vedlegg_id fra altinn3. \n",
    "6. laster opp skattemeldingen og næringsopplysninger som et vedlegg"
   ]
  },
  {
   "cell_type": "code",
   "execution_count": null,
   "metadata": {
    "pycharm": {
     "name": "#%%\n"
    }
   },
   "outputs": [],
   "source": [
    "#1\n",
    "altinn3_applikasjon = \"skd/formueinntekt-skattemelding-v2\"\n",
    "altinn_header = hent_altinn_token(idporten_header)\n",
    "#2\n",
    "instans_data = opprett_ny_instans(altinn_header, fnr, appnavn=altinn3_applikasjon)"
   ]
  },
  {
   "cell_type": "markdown",
   "metadata": {},
   "source": [
    "### 3 Last opp metadata (skattemelding_V1)\n",
    "legg merke til `<innsendingstype>` er satt til `ikkeKomplett` i payloaden, og ikke i Altinn3 metadata\n"
   ]
  },
  {
   "cell_type": "code",
   "execution_count": null,
   "metadata": {},
   "outputs": [],
   "source": [
    "print(f\"innsendingstypen er satt til: {innsendingstype}\")\n",
    "req_metadata = last_opp_metadata_json(instans_data, altinn_header, inntektsaar=2021, appnavn=altinn3_applikasjon)\n",
    "req_metadata"
   ]
  },
  {
   "cell_type": "markdown",
   "metadata": {},
   "source": [
    "## Last opp skattemelding\n",
    "### Last først opp vedlegg som hører til skattemeldingen\n",
    "Eksemplet nedenfor gjelder kun generelle vedlegg for skattemeldingen, \n",
    "\n",
    " ```xml\n",
    " <vedlegg>\n",
    "      <id>En unik id levert av altinn når du laster opp vedleggsfilen</id>\n",
    "    <vedleggsfil>\n",
    "      <opprinneligFilnavn><tekst>vedlegg_eksempel_sirius_stjerne.jpg</tekst></opprinneligFilnavn>\n",
    "      <opprinneligFiltype><tekst>jpg</tekst></opprinneligFiltype>\n",
    "    </vedleggsfil>\n",
    "    <vedleggstype>dokumentertMarkedsverdi</vedleggstype>\n",
    "  </vedlegg>\n",
    "```\n",
    "\n",
    "men samme prinsippet gjelder for andre kort som kan ha vedlegg. Husk at rekkefølgen på xml elementene har noe å si for å få validert xml'n"
   ]
  },
  {
   "cell_type": "code",
   "execution_count": null,
   "metadata": {},
   "outputs": [],
   "source": [
    "vedleggfil = \"vedlegg_eksempel_sirius_stjerne.jpg\"\n",
    "opplasting_respons = last_opp_vedlegg(instans_data, \n",
    "                                      altinn_header, \n",
    "                                      vedleggfil, \n",
    "                                      content_type=\"image/jpeg\", \n",
    "                                      data_type=\"skattemelding-vedlegg\",\n",
    "                                      appnavn=altinn3_applikasjon)\n",
    "vedlegg_id = opplasting_respons.json()[\"id\"]\n",
    "\n",
    "\n",
    "# Så må vi modifisere skattemeldingen slik at vi får med vedlegg idn inn skattemelding xml'n\n",
    "with open(\"../../../src/resources/eksempler/v2/skattemelding_v9_eksempel_vedlegg.xml\") as f:\n",
    "    filnavn = Path(vedleggfil).name\n",
    "    filtype = \"jpg\"\n",
    "    partsnummer = xmltodict.parse(decoded_sme_xml[\"content\"])[\"skattemelding\"][\"partsreferanse\"]\n",
    "    \n",
    "    sme_xml = f.read().format(partsnummer=partsnummer, vedlegg_id=vedlegg_id, filnavn=filnavn, filtype=filtype)\n",
    "    sme_xml_b64 = base64.b64encode(sme_xml.encode(\"utf-8\"))\n",
    "    sme_xml_b64 = str(sme_xml_b64.decode(\"utf-8\"))\n",
    "    \n",
    "#La oss validere at skattemeldingen fortsatt validerer mot valideringstjenesten\n",
    "naering_enk_med_vedlegg = valider_konvlutt_v2.format(sme_base64=sme_xml_b64,\n",
    "                                                     naeringsspeifikasjon_base64=naeringsspesifikasjoner_base64,\n",
    "                                                     dok_ref=dok_ref,\n",
    "                                                     innsendingstype=innsendingstype)\n",
    "\n",
    "valider_respons = valider_sme(naering_enk)\n",
    "resultat_av_validering_med_vedlegg = xmltodict.parse(valider_respons.text)[\"skattemeldingerOgNaeringsspesifikasjonResponse\"][\"resultatAvValidering\"]\n",
    "resultat_av_validering_med_vedlegg"
   ]
  },
  {
   "cell_type": "code",
   "execution_count": null,
   "metadata": {},
   "outputs": [],
   "source": [
    "#Last opp skattemeldingen\n",
    "req_send_inn = last_opp_skattedata(instans_data, altinn_header, \n",
    "                                   xml=naering_enk_med_vedlegg, \n",
    "                                   data_type=\"skattemeldingOgNaeringspesifikasjon\",\n",
    "                                   appnavn=altinn3_applikasjon)\n",
    "req_send_inn"
   ]
  },
  {
   "cell_type": "markdown",
   "metadata": {},
   "source": [
    "### Sett statusen klar til henting av skatteetaten. "
   ]
  },
  {
   "cell_type": "code",
   "execution_count": null,
   "metadata": {},
   "outputs": [],
   "source": [
    "req_bekreftelse = endre_prosess_status(instans_data, altinn_header, \"next\", appnavn=altinn3_applikasjon)\n",
    "req_bekreftelse = endre_prosess_status(instans_data, altinn_header, \"next\", appnavn=altinn3_applikasjon)\n",
    "req_bekreftelse"
   ]
  },
  {
   "cell_type": "markdown",
   "metadata": {},
   "source": [
    "### Framtidig: Sjekk status på altinn3 instansen om skatteetaten har hentet instansen. "
   ]
  },
  {
   "cell_type": "markdown",
   "metadata": {},
   "source": [
    "### Se innsending i Altinn\n",
    "\n",
    "Ta en slurk av kaffen og klapp deg selv på ryggen, du har nå sendt inn, la byråkratiet gjøre sin ting... og det tar litt tid. Pt så sjekker skatteeaten hos Altinn3 hvert 5 min om det har kommet noen nye innsendinger. "
   ]
  },
  {
   "cell_type": "markdown",
   "metadata": {},
   "source": [
    "# Ikke komplett skattemelding\n",
    "1. Når du har fått svar i altinn innboksen, så kan du gå til \n",
    " https://skatt-sbstest.sits.no/web/skattemeldingen/2021\n",
    "2. Her vil du se næringsinntekter overført fra skattemeldingen\n",
    "3. Når du har sendt inn i SME så vil du kunne se i altinn instansen at den har blitt avsluttet\n",
    "4. Kjør cellen nedenfor for å se at du har fått en ny fastsatt skattemelding og næringsopplysninger\n"
   ]
  },
  {
   "cell_type": "code",
   "execution_count": null,
   "metadata": {},
   "outputs": [],
   "source": [
    "print(\"Resultat av hent fastsatt før fastsetting\")\n",
    "print(r_fastsatt.text)\n",
    "print(\"Resultat av hent fastsatt etter fastsetting\")\n",
    "\n",
    "r_fastsatt2 = s.get(url_fastsatt)\n",
    "r_fastsatt2.text\n",
    "#r_fastsatt.elapsed.total_seconds()"
   ]
  }
 ],
 "metadata": {
  "kernelspec": {
   "display_name": "Python 3",
   "language": "python",
   "name": "python3"
  },
  "language_info": {
   "codemirror_mode": {
    "name": "ipython",
    "version": 3
   },
   "file_extension": ".py",
   "mimetype": "text/x-python",
   "name": "python",
   "nbconvert_exporter": "python",
   "pygments_lexer": "ipython3",
   "version": "3.9.6"
  }
 },
 "nbformat": 4,
 "nbformat_minor": 4
}
