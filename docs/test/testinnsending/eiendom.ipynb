{
 "cells": [
  {
   "cell_type": "code",
   "execution_count": 1,
   "id": "initial_id",
   "metadata": {
    "collapsed": true,
    "ExecuteTime": {
     "end_time": "2023-09-15T07:45:43.166162Z",
     "start_time": "2023-09-15T07:45:42.949099Z"
    }
   },
   "outputs": [],
   "source": [
    "from skatteetaten_api import get_access_token\n",
    "import requests"
   ]
  },
  {
   "cell_type": "code",
   "execution_count": 2,
   "outputs": [
    {
     "name": "stderr",
     "output_type": "stream",
     "text": [
      "127.0.0.1 - - [15/Sep/2023 09:45:43] \"GET /token?code=dAarwrpYS_Qh1l1poHdGsw.Evia5PRIpYyo82ejaftwbw&iss=https%3A%2F%2Ftest.idporten.no&state=0dE2IL1UGLqQRGoemefbxg HTTP/1.1\" 200 -\n"
     ]
    },
    {
     "name": "stdout",
     "output_type": "stream",
     "text": [
      "The token is good, expires at 10:45:44 (3600 seconds from now)\n"
     ]
    }
   ],
   "source": [
    "skatteetaten_url = \"https://idporten-api-sbstest.sits.no\"\n",
    "fnr = \"09845297174\"\n",
    "sergId = 200000000\n",
    "inntekstår = \"2022\"\n",
    "\n",
    "idporten_header = get_access_token()"
   ],
   "metadata": {
    "collapsed": false,
    "ExecuteTime": {
     "end_time": "2023-09-15T07:45:44.119908Z",
     "start_time": "2023-09-15T07:45:43.168177Z"
    }
   },
   "id": "44b52835aea2a926"
  },
  {
   "cell_type": "code",
   "execution_count": 3,
   "outputs": [],
   "source": [
    "sergId = 200000004\n",
    "url_eiendomssoek = skatteetaten_url + f\"/api/skattemelding/v2/eiendom/soek/{inntekstår}?query=Liksomveien 5\"\n",
    "url_formuesgrunnlag= skatteetaten_url + f\"/api/skattemelding/v2/eiendom/formuesgrunnlag/2022/{sergId}/{fnr}\"\n",
    "\n",
    "soek_eiendom_request = requests.get(url_eiendomssoek, headers=idporten_header)\n",
    "hent_formuesgrunnlag = requests.get(url_formuesgrunnlag, headers=idporten_header)"
   ],
   "metadata": {
    "collapsed": false,
    "ExecuteTime": {
     "end_time": "2023-09-15T07:45:44.917648Z",
     "start_time": "2023-09-15T07:45:44.114509Z"
    }
   },
   "id": "88984d567353a503"
  },
  {
   "cell_type": "code",
   "execution_count": null,
   "outputs": [],
   "source": [],
   "metadata": {
    "collapsed": false
   },
   "id": "f0c5d311672486e6"
  }
 ],
 "metadata": {
  "kernelspec": {
   "display_name": "Python 3",
   "language": "python",
   "name": "python3"
  },
  "language_info": {
   "codemirror_mode": {
    "name": "ipython",
    "version": 2
   },
   "file_extension": ".py",
   "mimetype": "text/x-python",
   "name": "python",
   "nbconvert_exporter": "python",
   "pygments_lexer": "ipython2",
   "version": "2.7.6"
  }
 },
 "nbformat": 4,
 "nbformat_minor": 5
}
