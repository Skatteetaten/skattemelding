{
 "cells": [
  {
   "cell_type": "markdown",
   "metadata": {},
   "source": [
    "# Testinnsening av upersonlig skattemelding med næringspesifikasjon\n",
    "Denne demoen er ment for å vise hvordan flyten for et sluttbrukersystem kan hente et utkast, gjøre endringer, validere/kontrollere det mot Skatteetatens apier, for å sende det inn via Altinn3. "
   ]
  },
  {
   "cell_type": "code",
   "execution_count": 1,
   "outputs": [],
   "source": [
    "try: \n",
    "    from altinn3 import *\n",
    "    from skatteetaten_api import *\n",
    "    import requests\n",
    "    import base64\n",
    "    import xmltodict\n",
    "    import xml.dom.minidom\n",
    "    from pathlib import Path\n",
    "except ImportError as e:\n",
    "    print(\"Mangler en avhengighet, installer dem via pip\")\n",
    "    !pip install python-jose\n",
    "    !pip install xmltodict\n",
    "    !pip install pathlib\n",
    "    import xmltodict\n",
    "    from skatteetaten_api import *\n"
   ],
   "metadata": {
    "collapsed": false
   }
  },
  {
   "cell_type": "code",
   "execution_count": 2,
   "outputs": [
    {
     "name": "stdout",
     "output_type": "stream",
     "text": [
      "https://oidc-ver2.difi.no/idporten-oidc-provider/authorize?scope=skatteetaten%3Aformueinntekt%2Fskattemelding%20openid&acr_values=Level3&client_id=8d7adad7-b497-40d0-8897-9a9d86c95306&redirect_uri=http%3A%2F%2Flocalhost%3A12345%2Ftoken&response_type=code&state=nEsBCBoc2vRyEkBiKqqR7Q&nonce=1664733706098873&code_challenge=j0ayXX7a2DWXz0-DTbsnPsnv9-a38Kb96Na-vrgrVEw=&code_challenge_method=S256&ui_locales=nb\n"
     ]
    },
    {
     "name": "stderr",
     "output_type": "stream",
     "text": [
      "127.0.0.1 - - [02/Oct/2022 20:01:53] \"GET /token?code=_J-mo12vHc0yCveBHHHv5O5VVbrUra8vOwlgGGsFsVc&state=nEsBCBoc2vRyEkBiKqqR7Q HTTP/1.1\" 200 -\n"
     ]
    },
    {
     "name": "stdout",
     "output_type": "stream",
     "text": [
      "Authorization token received\n",
      "{'code': ['_J-mo12vHc0yCveBHHHv5O5VVbrUra8vOwlgGGsFsVc'], 'state': ['nEsBCBoc2vRyEkBiKqqR7Q']}\n",
      "JS : \n",
      "{'access_token': 'eyJraWQiOiJ2UHBaZW9HOGRkTHpmdHMxLWxnc3VnOHNyYVd3bW04dHhJaGJ3Y1h3R01JIiwiYWxnIjoiUlMyNTYifQ.eyJzdWIiOiJWUVVQY2tqRjZHeTdOZlNWWGdRMm1aN2FhbzBieDUxSVlKc2xEaGROMmI4PSIsImlzcyI6Imh0dHBzOlwvXC9vaWRjLXZlcjIuZGlmaS5ub1wvaWRwb3J0ZW4tb2lkYy1wcm92aWRlclwvIiwiY2xpZW50X2FtciI6Im5vbmUiLCJwaWQiOiIxMjg3NzU5NzkyOCIsInRva2VuX3R5cGUiOiJCZWFyZXIiLCJjbGllbnRfaWQiOiI4ZDdhZGFkNy1iNDk3LTQwZDAtODg5Ny05YTlkODZjOTUzMDYiLCJhY3IiOiJMZXZlbDQiLCJzY29wZSI6Im9wZW5pZCBza2F0dGVldGF0ZW46Zm9ybXVlaW5udGVrdFwvc2thdHRlbWVsZGluZyIsImV4cCI6MTY2NDgyMDExNCwiaWF0IjoxNjY0NzMzNzE0LCJjbGllbnRfb3Jnbm8iOiI5NzQ3NjEwNzYiLCJqdGkiOiJkbnM3cUJMVWc2UlFVMzZhd2gtQkVvOEdSNGVvVElFREZEY1RzQ2ZFQjJvIiwiY29uc3VtZXIiOnsiYXV0aG9yaXR5IjoiaXNvNjUyMy1hY3RvcmlkLXVwaXMiLCJJRCI6IjAxOTI6OTc0NzYxMDc2In19.v95ODP52icvWoN29loHMVVzJJ22Cdnwj2fttvXXDZUw346PWH_Y62SrgtdDRoBQnpnCnfcIJFRVrSUGslg_dFmxWzqOanwpX5JzFJr4EYW8akvo_rNOIQwgd2u1aW9WGdrTgd_uRbnHaCls-lv4QND2_UROQL77KJs6bmLpGwlNr1GYqeNxbmhogqGE-wkwRSFB6LhwV5aqhqaUbhZyNQiIpSiPem1yjnYgOxelXJHZO7eTbiFkfwrbolNTuSzbDX8mdX0l00HkyvikM8juNXMIRPqARcvDj7gpHvTC-aKQaclftZRY42ZCA32MrdIGq1Be5HzSKYbRhKDvUMk_XVA', 'id_token': 'eyJraWQiOiJ2UHBaZW9HOGRkTHpmdHMxLWxnc3VnOHNyYVd3bW04dHhJaGJ3Y1h3R01JIiwiYWxnIjoiUlMyNTYifQ.eyJhdF9oYXNoIjoiU1k1V3pBLUtmNzk0MDUyNDNROUV2USIsInN1YiI6IlZRVVBja2pGNkd5N05mU1ZYZ1EybVo3YWFvMGJ4NTFJWUpzbERoZE4yYjg9IiwiYW1yIjpbIlRlc3RJZCJdLCJpc3MiOiJodHRwczpcL1wvb2lkYy12ZXIyLmRpZmkubm9cL2lkcG9ydGVuLW9pZGMtcHJvdmlkZXJcLyIsInBpZCI6IjEyODc3NTk3OTI4IiwibG9jYWxlIjoibmIiLCJub25jZSI6IjE2NjQ3MzM3MDYwOTg4NzMiLCJzaWQiOiJoNy02dmpucXJCemxreEJvVnUtR0JZU2IxbENyNXozMW1zQm5SSUliekJFIiwiYXVkIjoiOGQ3YWRhZDctYjQ5Ny00MGQwLTg4OTctOWE5ZDg2Yzk1MzA2IiwiYWNyIjoiTGV2ZWw0IiwiYXV0aF90aW1lIjoxNjY0NzMzNzEzLCJleHAiOjE2NjQ3MzM4MzQsImlhdCI6MTY2NDczMzcxNCwianRpIjoiRG41TndIMkthS3BHM0FTeUl3U2ExZnpjSS1Hdmk0MGpLUUM2LWhZUy1hUSJ9.yeeeO0dqK5S5vHz-OrESXkp2E49MngFr5TdHjZWxstYP7C_uAIQWXNdSKl2eebprN0zWW0v5rSFe2ZgwOPzBI3RMk0H4DxDtINk3RzhpM3BiZIRyRJmGlyCXeZZnTObtiYKohvp4GulKyxLb6Gn3s1q95boJmpiGePVH9eT1Y7WasldbknjK1nIHFqPda7_b3W6uwp_Cr-ldbu2GGYsfVCGypHb-tI23s9jyz51_1wYuOEoB7NlRAcRtVuKpPvW23WRHSJ1K_YVRjgBwF_AihvIfzyzO-dkDgk7cjTGxFahLwvJEOf71FBhAuIicS49WRg74QqVNvCsEkcOmf-bcOg', 'token_type': 'Bearer', 'expires_in': 86399, 'scope': 'openid skatteetaten:formueinntekt/skattemelding'}\n",
      "The token is good, expires in 86401 seconds\n",
      "\n",
      "Bearer eyJraWQiOiJ2UHBaZW9HOGRkTHpmdHMxLWxnc3VnOHNyYVd3bW04dHhJaGJ3Y1h3R01JIiwiYWxnIjoiUlMyNTYifQ.eyJzdWIiOiJWUVVQY2tqRjZHeTdOZlNWWGdRMm1aN2FhbzBieDUxSVlKc2xEaGROMmI4PSIsImlzcyI6Imh0dHBzOlwvXC9vaWRjLXZlcjIuZGlmaS5ub1wvaWRwb3J0ZW4tb2lkYy1wcm92aWRlclwvIiwiY2xpZW50X2FtciI6Im5vbmUiLCJwaWQiOiIxMjg3NzU5NzkyOCIsInRva2VuX3R5cGUiOiJCZWFyZXIiLCJjbGllbnRfaWQiOiI4ZDdhZGFkNy1iNDk3LTQwZDAtODg5Ny05YTlkODZjOTUzMDYiLCJhY3IiOiJMZXZlbDQiLCJzY29wZSI6Im9wZW5pZCBza2F0dGVldGF0ZW46Zm9ybXVlaW5udGVrdFwvc2thdHRlbWVsZGluZyIsImV4cCI6MTY2NDgyMDExNCwiaWF0IjoxNjY0NzMzNzE0LCJjbGllbnRfb3Jnbm8iOiI5NzQ3NjEwNzYiLCJqdGkiOiJkbnM3cUJMVWc2UlFVMzZhd2gtQkVvOEdSNGVvVElFREZEY1RzQ2ZFQjJvIiwiY29uc3VtZXIiOnsiYXV0aG9yaXR5IjoiaXNvNjUyMy1hY3RvcmlkLXVwaXMiLCJJRCI6IjAxOTI6OTc0NzYxMDc2In19.v95ODP52icvWoN29loHMVVzJJ22Cdnwj2fttvXXDZUw346PWH_Y62SrgtdDRoBQnpnCnfcIJFRVrSUGslg_dFmxWzqOanwpX5JzFJr4EYW8akvo_rNOIQwgd2u1aW9WGdrTgd_uRbnHaCls-lv4QND2_UROQL77KJs6bmLpGwlNr1GYqeNxbmhogqGE-wkwRSFB6LhwV5aqhqaUbhZyNQiIpSiPem1yjnYgOxelXJHZO7eTbiFkfwrbolNTuSzbDX8mdX0l00HkyvikM8juNXMIRPqARcvDj7gpHvTC-aKQaclftZRY42ZCA32MrdIGq1Be5HzSKYbRhKDvUMk_XVA\n"
     ]
    }
   ],
   "source": [
    "idporten_header = get_access_token()"
   ],
   "metadata": {
    "collapsed": false
   }
  },
  {
   "cell_type": "markdown",
   "source": [
    "# Hent utkast og gjeldende\n",
    "Her legger vi inn fødselsnummeret vi logget oss inn med, Dersom du velger et annet fødselsnummer så må den du logget på med ha tilgang til skattemeldingen du ønsker å hente\n",
    "\n",
    "#### Parten nedenfor er brukt for demostrasjon, pass på bruk deres egne testparter når dere tester\n",
    "\n",
    "\n",
    "01014701377 er daglig leder for 811422762 "
   ],
   "metadata": {
    "collapsed": false
   }
  },
  {
   "cell_type": "code",
   "execution_count": 3,
   "outputs": [],
   "source": [
    "s = requests.Session()\n",
    "s.headers = dict(idporten_header)\n",
    "fnr=\"12877597928\" #oppdater med test fødselsnummerene du har fått tildelt\n",
    "orgnr_as = \"312787016\"\n",
    "innteksår = \"2022\""
   ],
   "metadata": {
    "collapsed": false
   }
  },
  {
   "cell_type": "markdown",
   "source": [
    "### Utkast"
   ],
   "metadata": {
    "collapsed": false
   }
  },
  {
   "cell_type": "code",
   "execution_count": 4,
   "outputs": [
    {
     "data": {
      "text/plain": "<Response [200]>"
     },
     "execution_count": 4,
     "metadata": {},
     "output_type": "execute_result"
    }
   ],
   "source": [
    "url_utkast = f'https://idporten-api-sbstest.sits.no/api/skattemelding/v2/utkast/{innteksår}/{orgnr_as}'\n",
    "\n",
    "r = s.get(url_utkast)\n",
    "r"
   ],
   "metadata": {
    "collapsed": false
   }
  },
  {
   "cell_type": "markdown",
   "source": [
    "### Gjeldende"
   ],
   "metadata": {
    "collapsed": false
   }
  },
  {
   "cell_type": "code",
   "execution_count": 5,
   "outputs": [
    {
     "data": {
      "text/plain": "<Response [200]>"
     },
     "execution_count": 5,
     "metadata": {},
     "output_type": "execute_result"
    }
   ],
   "source": [
    "url_gjeldende = f'https://idporten-api-sbstest.sits.no/api/skattemelding/v2/{innteksår}/{orgnr_as}'\n",
    "r_gjeldende = s.get(url_gjeldende)\n",
    "r_gjeldende"
   ],
   "metadata": {
    "collapsed": false
   }
  },
  {
   "cell_type": "markdown",
   "source": [
    "## Fastsatt\n",
    "Her får en _http 404_ om vedkommende ikke har noen fastsetting, rekjørt denne etter du har sendt inn og fått tilbakemdling i Altinn at den har blitt behandlet, du skal nå ha en fastsatt skattemelding om den har blitt sent inn som Komplett"
   ],
   "metadata": {
    "collapsed": false
   }
  },
  {
   "cell_type": "code",
   "execution_count": 6,
   "outputs": [
    {
     "data": {
      "text/plain": "<Response [404]>"
     },
     "execution_count": 6,
     "metadata": {},
     "output_type": "execute_result"
    }
   ],
   "source": [
    "url_fastsatt = f'https://idporten-api-sbstest.sits.no/api/skattemelding/v2/fastsatt/{innteksår}/{orgnr_as}'\n",
    "r_fastsatt = s.get(url_fastsatt)\n",
    "r_fastsatt"
   ],
   "metadata": {
    "collapsed": false
   }
  },
  {
   "cell_type": "code",
   "execution_count": 7,
   "outputs": [
    {
     "data": {
      "text/plain": "{'korrelasjonsid': '6179fbd1-ff70-6209-3e28-8dfdcc21d83c', 'content-type': 'text/plain;charset=UTF-8', 'content-length': '26', 'date': 'Sun, 02 Oct 2022 18:02:21 GMT', 'Expires': 'Thu, 01 Dec 1994 16:00:00 GMT', 'Strict-Transport-Security': 'max-age=16070400; includeSubDomains'}"
     },
     "execution_count": 7,
     "metadata": {},
     "output_type": "execute_result"
    }
   ],
   "source": [
    "r_fastsatt.headers"
   ],
   "metadata": {
    "collapsed": false
   }
  },
  {
   "cell_type": "markdown",
   "source": [
    "## Svar fra hent gjeldende \n",
    "\n",
    "### Gjeldende dokument referanse: \n",
    "I responsen på alle api kallene, være seg utkast/fastsatt eller gjeldene, så følger det med en dokumentreferanse. \n",
    "For å kalle valider tjenesten, er en avhengig av å bruke korrekt referanse til gjeldende skattemelding. \n",
    "\n",
    "Cellen nedenfor henter ut gjeldende dokumentrefranse printer ut responsen fra hent gjeldende kallet "
   ],
   "metadata": {
    "collapsed": false
   }
  },
  {
   "cell_type": "code",
   "execution_count": 8,
   "outputs": [
    {
     "name": "stdout",
     "output_type": "stream",
     "text": [
      "Responsen fra hent gjeldende ser slik ut, gjeldende dokumentrerefanse er SKI:755:151244\n",
      "GET https://idporten-api-sbstest.sits.no/api/skattemelding/v2/2022/312787016\n",
      "<?xml version=\"1.0\" ?>\n",
      "<skattemeldingOgNaeringsspesifikasjonforespoerselResponse xmlns=\"no:skatteetaten:fastsetting:formueinntekt:skattemeldingognaeringsspesifikasjon:forespoersel:response:v2\">\n",
      "\t<dokumenter>\n",
      "\t\t<skattemeldingdokument>\n",
      "\t\t\t<id>SKI:755:151244</id>\n",
      "\t\t\t<encoding>utf-8</encoding>\n",
      "\t\t\t<content>PD94bWwgdmVyc2lvbj0iMS4wIiBlbmNvZGluZz0iVVRGLTgiPz48c2thdHRlbWVsZGluZyB4bWxucz0idXJuOm5vOnNrYXR0ZWV0YXRlbjpmYXN0c2V0dGluZzpmb3JtdWVpbm50ZWt0OnNrYXR0ZW1lbGRpbmc6dXBlcnNvbmxpZzpla3N0ZXJuOnYyIj48cGFydHNudW1tZXI+MzAwMTU4OTMyMzwvcGFydHNudW1tZXI+PGlubnRla3RzYWFyPjIwMjI8L2lubnRla3RzYWFyPjwvc2thdHRlbWVsZGluZz4=</content>\n",
      "\t\t\t<type>skattemeldingUpersonligUtkast</type>\n",
      "\t\t</skattemeldingdokument>\n",
      "\t</dokumenter>\n",
      "</skattemeldingOgNaeringsspesifikasjonforespoerselResponse>\n"
     ]
    }
   ],
   "source": [
    "sjekk_svar = r_gjeldende\n",
    "\n",
    "sme_og_naering_respons = xmltodict.parse(sjekk_svar.text)\n",
    "skattemelding_base64 = sme_og_naering_respons[\"skattemeldingOgNaeringsspesifikasjonforespoerselResponse\"][\"dokumenter\"][\"skattemeldingdokument\"]\n",
    "sme_base64 = skattemelding_base64[\"content\"]\n",
    "dokref = sme_og_naering_respons[\"skattemeldingOgNaeringsspesifikasjonforespoerselResponse\"][\"dokumenter\"]['skattemeldingdokument']['id']\n",
    "decoded_sme_xml = decode_dokument(skattemelding_base64)\n",
    "sme_utkast = xml.dom.minidom.parseString(decoded_sme_xml[\"content\"]).toprettyxml()\n",
    "sme_dict = xmltodict.parse(decoded_sme_xml['content'])\n",
    "partsnummer = sme_dict['skattemelding']['partsnummer']\n",
    "\n",
    "print(f\"Responsen fra hent gjeldende ser slik ut, gjeldende dokumentrerefanse er {dokref}\")\n",
    "print(sjekk_svar.request.method ,sjekk_svar.request.url)\n",
    "print(xml.dom.minidom.parseString(sjekk_svar.text).toprettyxml())\n"
   ],
   "metadata": {
    "collapsed": false
   }
  },
  {
   "cell_type": "code",
   "execution_count": 15,
   "outputs": [],
   "source": [
    "#Legg merge til dokumenter.dokument.type = skattemeldingUpersonlig\n",
    "\n",
    "with open(f\"../../../src/resources/eksempler/{innteksår}/Naeringspesifikasjon-AS-v3.xml\", 'r') as f:\n",
    "    naering_as_xml = f.read()\n",
    "    \n",
    "innsendingstype = \"komplett\"\n",
    "naeringsspesifikasjoner_as_b64 = base64.b64encode(naering_as_xml.encode(\"utf-8\"))\n",
    "naeringsspesifikasjoner_as_b64 = str(naeringsspesifikasjoner_as_b64.decode(\"utf-8\"))\n",
    "naeringsspesifikasjoner_base64=naeringsspesifikasjoner_as_b64\n",
    "\n",
    "\n",
    "with open(f\"../../../src/resources/eksempler/{innteksår}/upersonligSkattemeldingV2.xml\", 'r') as f:\n",
    "    sme_verdi_bak_aksjer = f.read().format(partsnummer=partsnummer)\n",
    "    sme_b64 = base64.b64encode(sme_verdi_bak_aksjer.encode(\"utf-8\"))\n",
    "    sme_b64 = str(sme_b64.decode(\"utf-8\"))\n",
    "\n",
    "\n",
    "valider_konvlutt_v2 = \"\"\"\n",
    "<?xml version=\"1.0\" encoding=\"utf-8\" ?>\n",
    "<skattemeldingOgNaeringsspesifikasjonRequest xmlns=\"no:skatteetaten:fastsetting:formueinntekt:skattemeldingognaeringsspesifikasjon:request:v2\">\n",
    "    <dokumenter>\n",
    "        <dokument>\n",
    "            <type>skattemeldingUpersonlig</type>\n",
    "            <encoding>utf-8</encoding>\n",
    "            <content>{sme_base64}</content>\n",
    "        </dokument>\n",
    "        <dokument>\n",
    "            <type>naeringsspesifikasjon</type>\n",
    "            <encoding>utf-8</encoding>\n",
    "            <content>{naeringsspeifikasjon_base64}</content>\n",
    "        </dokument>\n",
    "    </dokumenter>\n",
    "    <dokumentreferanseTilGjeldendeDokument>\n",
    "        <dokumenttype>skattemeldingUpersonlig</dokumenttype>\n",
    "        <dokumentidentifikator>{dok_ref}</dokumentidentifikator>\n",
    "    </dokumentreferanseTilGjeldendeDokument>\n",
    "    <inntektsaar>{innteksår}</inntektsaar>\n",
    "    <innsendingsinformasjon>\n",
    "        <innsendingstype>{innsendingstype}</innsendingstype>\n",
    "        <opprettetAv>TurboSkatt</opprettetAv>\n",
    "    </innsendingsinformasjon>\n",
    "</skattemeldingOgNaeringsspesifikasjonRequest>\n",
    "\"\"\".replace(\"\\n\",\"\")\n",
    "\n",
    "\n",
    "naering_as = valider_konvlutt_v2.format(sme_base64=sme_b64,\n",
    "                                         naeringsspeifikasjon_base64=naeringsspesifikasjoner_base64,\n",
    "                                         dok_ref=dokref,\n",
    "                                         innteksår=innteksår,\n",
    "                                         innsendingstype=innsendingstype)"
   ],
   "metadata": {
    "collapsed": false
   }
  },
  {
   "cell_type": "markdown",
   "source": [
    "# Valider utkast sme med næringsopplysninger"
   ],
   "metadata": {
    "collapsed": false
   }
  },
  {
   "cell_type": "code",
   "execution_count": 17,
   "outputs": [
    {
     "name": "stdout",
     "output_type": "stream",
     "text": [
      "200 {'korrelasjonsid': 'ca27ebb4-c2a0-1fff-9436-58aa16bce247', 'content-type': 'application/xml;charset=UTF-8', 'content-length': '631', 'date': 'Sun, 02 Oct 2022 18:30:41 GMT', 'Expires': 'Thu, 01 Dec 1994 16:00:00 GMT', 'Strict-Transport-Security': 'max-age=16070400; includeSubDomains'} <skattemeldingOgNaeringsspesifikasjonResponse xmlns=\"no:skatteetaten:fastsetting:formueinntekt:skattemeldingognaeringsspesifikasjon:response:v2\"><avvikVedValidering><avvik><avvikstype>xmlValideringsfeilPaaSkattemelding</avvikstype></avvik><avvik><avvikstype>xmlValideringsfeilPaaNaeringsopplysningene</avvikstype></avvik></avvikVedValidering><resultatAvValidering>validertMedFeil</resultatAvValidering><aarsakTilValidertMedFeil>xmlValideringsfeilPaaSkattemelding</aarsakTilValidertMedFeil><aarsakTilValidertMedFeil>xmlValideringsfeilPaaNaeringsopplysningene</aarsakTilValidertMedFeil></skattemeldingOgNaeringsspesifikasjonResponse>\n",
      "validertMedFeil\n",
      "\n",
      "<?xml version=\"1.0\" ?>\n",
      "<skattemeldingOgNaeringsspesifikasjonResponse xmlns=\"no:skatteetaten:fastsetting:formueinntekt:skattemeldingognaeringsspesifikasjon:response:v2\">\n",
      "\t<avvikVedValidering>\n",
      "\t\t<avvik>\n",
      "\t\t\t<avvikstype>xmlValideringsfeilPaaSkattemelding</avvikstype>\n",
      "\t\t</avvik>\n",
      "\t\t<avvik>\n",
      "\t\t\t<avvikstype>xmlValideringsfeilPaaNaeringsopplysningene</avvikstype>\n",
      "\t\t</avvik>\n",
      "\t</avvikVedValidering>\n",
      "\t<resultatAvValidering>validertMedFeil</resultatAvValidering>\n",
      "\t<aarsakTilValidertMedFeil>xmlValideringsfeilPaaSkattemelding</aarsakTilValidertMedFeil>\n",
      "\t<aarsakTilValidertMedFeil>xmlValideringsfeilPaaNaeringsopplysningene</aarsakTilValidertMedFeil>\n",
      "</skattemeldingOgNaeringsspesifikasjonResponse>\n"
     ]
    }
   ],
   "source": [
    "valider_respons = valider(naering_as, inntektsår=innteksår, s=s, tin=orgnr_as, idporten_header=idporten_header)\n",
    "resultatAvValidering = xmltodict.parse(valider_respons.text)[\"skattemeldingOgNaeringsspesifikasjonResponse\"][\"resultatAvValidering\"]\n",
    "\n",
    "if valider_respons:\n",
    "    print(valider_respons.status_code, valider_respons.headers, valider_respons.text)\n",
    "    print(resultatAvValidering + \"\\n\")\n",
    "    print(xml.dom.minidom.parseString(valider_respons.text).toprettyxml())\n",
    "else:\n",
    "    print(valider_respons.status_code, valider_respons.headers, valider_respons.text)"
   ],
   "metadata": {
    "collapsed": false
   }
  },
  {
   "cell_type": "markdown",
   "source": [
    "# Altinn 3"
   ],
   "metadata": {
    "collapsed": false
   }
  },
  {
   "cell_type": "markdown",
   "source": [
    "1. Hent Altinn Token\n",
    "2. Oppretter en ny instans av skjemaet\n",
    "3. Laster opp skattemeldingen og næringsopplysninger som et vedlegg"
   ],
   "metadata": {
    "collapsed": false
   }
  },
  {
   "cell_type": "code",
   "execution_count": null,
   "outputs": [],
   "source": [
    "#1\n",
    "altinn3_applikasjon = \"skd/formueinntekt-skattemelding-v2\"\n",
    "altinn_header = hent_altinn_token(idporten_header)\n",
    "#2\n",
    "tesmiljø = None #Default testmiljø skal brukes for SBS innsending\n",
    "instans_data = opprett_ny_instans_med_inntektsaar(altinn_header, innteksår, tesmiljø, orgnr=orgnr_as, appnavn=altinn3_applikasjon)"
   ],
   "metadata": {
    "collapsed": false
   }
  },
  {
   "cell_type": "markdown",
   "source": [
    "## Last opp skattemelding"
   ],
   "metadata": {
    "collapsed": false
   }
  },
  {
   "cell_type": "code",
   "execution_count": null,
   "outputs": [],
   "source": [
    "#Last opp skattemeldingen\n",
    "req_send_inn = last_opp_skattedata(instans_data, altinn_header, \n",
    "                                   xml=naering_as,\n",
    "                                   data_type=\"skattemeldingOgNaeringsspesifikasjon\",\n",
    "                                   appnavn=altinn3_applikasjon)\n",
    "req_send_inn"
   ],
   "metadata": {
    "collapsed": false
   }
  },
  {
   "cell_type": "markdown",
   "source": [
    "### Sett statusen klar til bekreftelse."
   ],
   "metadata": {
    "collapsed": false
   }
  },
  {
   "cell_type": "code",
   "execution_count": null,
   "outputs": [],
   "source": [
    "req_bekreftelse = endre_prosess_status(instans_data, altinn_header, \"next\", appnavn=altinn3_applikasjon)"
   ],
   "metadata": {
    "collapsed": false
   }
  },
  {
   "cell_type": "markdown",
   "source": [
    "### Åpner skattemelding visningsklient for å se beregnet skattemelding med næringsspesifikasjon."
   ],
   "metadata": {
    "collapsed": false
   }
  },
  {
   "cell_type": "code",
   "execution_count": null,
   "outputs": [],
   "source": [
    "from skatteetaten_api import skattemelding_visning\n",
    "\n",
    "url_skattemelding_visning = skattemelding_visning(instans_data, appnavn=altinn3_applikasjon)\n",
    "print(url_skattemelding_visning)"
   ],
   "metadata": {
    "collapsed": false
   }
  },
  {
   "cell_type": "markdown",
   "source": [
    "### Sett statusen klar til henting av skatteetaten."
   ],
   "metadata": {
    "collapsed": false
   }
  },
  {
   "cell_type": "code",
   "execution_count": null,
   "outputs": [],
   "source": [
    "req_bekreftelse = endre_prosess_status(instans_data, altinn_header, \"next\", appnavn=altinn3_applikasjon)\n",
    "req_bekreftelse"
   ],
   "metadata": {
    "collapsed": false
   }
  }
 ],
 "metadata": {
  "kernelspec": {
   "display_name": "Python 3",
   "language": "python",
   "name": "python3"
  },
  "language_info": {
   "codemirror_mode": {
    "name": "ipython",
    "version": 3
   },
   "file_extension": ".py",
   "mimetype": "text/x-python",
   "name": "python",
   "nbconvert_exporter": "python",
   "pygments_lexer": "ipython3",
   "version": "3.9.6"
  }
 },
 "nbformat": 4,
 "nbformat_minor": 4
}
