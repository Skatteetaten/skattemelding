{
 "cells": [
  {
   "cell_type": "markdown",
   "source": "# Eskattekort søknad",
   "metadata": {
    "collapsed": false
   }
  },
  {
   "metadata": {
    "collapsed": false
   },
   "cell_type": "code",
   "source": [
    "from docs.test.testinnsending.skatteetaten_api import get_access_token\n",
    "from requests import post,get\n",
    "from faker import Faker\n",
    "import jwt\n",
    "import uuid\n",
    "import pprint\n",
    "\n",
    "token = get_access_token(scope='skatteetaten:forskudd altinn:instances.read altinn:instances.write openid')\n",
    "jwt_token = token[\"Authorization\"].replace(\"Bearer \", \"\")\n",
    "\n",
    "#henter innlogget bruker fra tokenet\n",
    "#identifikator = jwt.decode(jwt_token, options={\"verify_signature\": False})[\"sub\"]\n",
    "#inntektsår = \"2024\"\n",
    "\n",
    "def pp_respons(r):\n",
    "    pp = pprint.PrettyPrinter(indent=4)\n",
    "\n",
    "    print(f\"{r.request.method} {r.request.url}\\n\")\n",
    "    pp.pprint(f\"{r.request.headers}\")\n",
    "    print(f\"http {r.status_code}\")\n",
    "    pp.pprint(f\"{r.headers}\\n{r.text}\")"
   ],
   "outputs": [],
   "execution_count": null
  },
  {
   "metadata": {},
   "cell_type": "code",
   "source": [
    "url_path = f\"/api/forskudd/\"\n",
    "#base_url_etm2 = \"https://idporten-api-sbstest.sits.no\"\n",
    "base_url_sit = \"https://idporten-api-sit.sits.no\"\n",
    "url=base_url_sit+url_path\n",
    "print(f\"url: {url}\")"
   ],
   "outputs": [],
   "execution_count": null
  },
  {
   "metadata": {},
   "cell_type": "code",
   "source": [
    "eskattekort_request = get(url, headers=token)\n",
    "\n",
    "pp_respons(eskattekort_request)\n"
   ],
   "outputs": [],
   "execution_count": null
  },
  {
   "metadata": {},
   "cell_type": "markdown",
   "source": ""
  }
 ],
 "metadata": {
  "kernelspec": {
   "display_name": "Python 3",
   "language": "python",
   "name": "python3"
  },
  "language_info": {
   "codemirror_mode": {
    "name": "ipython",
    "version": 2
   },
   "file_extension": ".py",
   "mimetype": "text/x-python",
   "name": "python",
   "nbconvert_exporter": "python",
   "pygments_lexer": "ipython2",
   "version": "2.7.6"
  }
 },
 "nbformat": 4,
 "nbformat_minor": 0
}
