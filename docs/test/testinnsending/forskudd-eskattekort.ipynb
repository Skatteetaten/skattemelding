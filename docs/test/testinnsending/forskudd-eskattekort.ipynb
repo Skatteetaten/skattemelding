{
 "cells": [
  {
   "cell_type": "markdown",
   "source": "# Eskattekort søknad",
   "metadata": {
    "collapsed": false
   }
  },
  {
   "metadata": {
    "collapsed": false,
    "ExecuteTime": {
     "end_time": "2025-02-07T12:06:02.423899Z",
     "start_time": "2025-02-07T12:06:00.220536Z"
    }
   },
   "cell_type": "code",
   "source": [
    "from docs.test.testinnsending.skatteetaten_api import get_access_token\n",
    "from requests import post,get\n",
    "from faker import Faker\n",
    "import jwt\n",
    "import uuid\n",
    "import pprint\n",
    "\n",
    "token = get_access_token(scope='skatteetaten:formueinntekt/skattemelding altinn:instances.read altinn:instances.write openid')\n",
    "jwt_token = token[\"Authorization\"].replace(\"Bearer \", \"\")\n",
    "\n",
    "#henter innlogget bruker fra tokenet\n",
    "#identifikator = jwt.decode(jwt_token, options={\"verify_signature\": False})[\"sub\"]\n",
    "#inntektsår = \"2024\"\n",
    "\n",
    "def pp_respons(r):\n",
    "    pp = pprint.PrettyPrinter(indent=4)\n",
    "\n",
    "    print(f\"{r.request.method} {r.request.url}\\n\")\n",
    "    pp.pprint(f\"{r.request.headers}\")\n",
    "    print(f\"http {r.status_code}\")\n",
    "    pp.pprint(f\"{r.headers}\\n{r.text}\")"
   ],
   "outputs": [
    {
     "name": "stderr",
     "output_type": "stream",
     "text": [
      "/Users/jon.solvberg/workspace/skattemeldingen/.venv/lib/python3.9/site-packages/urllib3/__init__.py:35: NotOpenSSLWarning: urllib3 v2 only supports OpenSSL 1.1.1+, currently the 'ssl' module is compiled with 'LibreSSL 2.8.3'. See: https://github.com/urllib3/urllib3/issues/3020\n",
      "  warnings.warn(\n"
     ]
    },
    {
     "name": "stdout",
     "output_type": "stream",
     "text": [
      "The token is good, expires at 14:06:02 (3600 seconds from now)\n"
     ]
    },
    {
     "name": "stderr",
     "output_type": "stream",
     "text": [
      "127.0.0.1 - - [07/Feb/2025 13:06:02] \"GET /token?code=hfLSsV9ZJmfXORhWdjHkMg.l-XQsRlUAmwPKoYXdwsK8w&iss=https%3A%2F%2Ftest.idporten.no&state=SSAaMM15k_nvwWGopU-29Q HTTP/1.1\" 200 -\n"
     ]
    }
   ],
   "execution_count": 1
  },
  {
   "metadata": {
    "ExecuteTime": {
     "end_time": "2025-02-07T12:06:11.295489Z",
     "start_time": "2025-02-07T12:06:11.292962Z"
    }
   },
   "cell_type": "code",
   "source": [
    "url_path = f\"/api/forskudd/\"\n",
    "#base_url_etm2 = \"https://idporten-api-sbstest.sits.no\"\n",
    "base_url_sit = \"https://idporten-api-sit.sits.no\"\n",
    "url=base_url_sit+url_path\n",
    "print(f\"url: {url}\")"
   ],
   "outputs": [
    {
     "name": "stdout",
     "output_type": "stream",
     "text": [
      "url: https://idporten-api-sit.sits.no/api/forskudd/\n"
     ]
    }
   ],
   "execution_count": 2
  },
  {
   "metadata": {
    "ExecuteTime": {
     "end_time": "2025-02-07T12:31:20.141479Z",
     "start_time": "2025-02-07T12:31:19.745050Z"
    }
   },
   "cell_type": "code",
   "source": [
    "eskattekort_request = get(url, headers=token)\n",
    "\n",
    "pp_respons(eskattekort_request)\n"
   ],
   "outputs": [
    {
     "name": "stdout",
     "output_type": "stream",
     "text": [
      "GET https://idporten-api-sit.sits.no/api/forskudd/\n",
      "\n",
      "(\"{'User-Agent': 'python-requests/2.32.3', 'Accept-Encoding': 'gzip, deflate', \"\n",
      " \"'Accept': '*/*', 'Connection': 'keep-alive', 'Authorization': 'Bearer \"\n",
      " \"eyJraWQiOiJkaWdpdGFsaXNlcmluZ3NkaXJla3RvcmF0ZXQtLWNlcnQwIiwiYWxnIjoiUlMyNTYifQ.eyJzdWIiOiIxMDg3NzQ5ODEzNyIsImFjciI6ImlkcG9ydGVuLWxvYS1oaWdoIiwic2NvcGUiOiJhbHRpbm46aW5zdGFuY2VzLnJlYWQgc2thdHRlZXRhdGVuOmZvcm11ZWlubnRla3Qvc2thdHRlbWVsZGluZyBvcGVuaWQgYWx0aW5uOmluc3RhbmNlcy53cml0ZSIsImlzcyI6Imh0dHBzOi8vdGVzdC5pZHBvcnRlbi5ubyIsImNsaWVudF9hbXIiOiJub25lIiwicGlkIjoiMTA4Nzc0OTgxMzciLCJleHAiOjE3Mzg5MzM1NjIsImlhdCI6MTczODkyOTk2MiwianRpIjoidXBSaGxURUZHSHMiLCJjbGllbnRfaWQiOiJjZmUyOGJhZC1jNzdjLTQwZTItOWM1NC1hMWM2NThmNDQ3OGIiLCJjb25zdW1lciI6eyJhdXRob3JpdHkiOiJpc282NTIzLWFjdG9yaWQtdXBpcyIsIklEIjoiMDE5Mjo5NzQ3NjEwNzYifX0.ZBFK9Km8zF0a5rpXDB_d3X_oGFMMtYz2opKbL8w2AOntPDqMYNlArhBtYB300ExHT-hWlRE7KozKXTzJDSLEtJGz-9dZ9BOeRqR3lUMFiFdMfDdSPvjZCWcOSHgRfkGGT12ECm-5pOpQanONfrxn4aGMWQ8jRHFMANboNAD4Z0VywSyp4cx71GaULOsM8xCbkNjFzHW9ueoPG03UNt4mquuCZZhXpsbSqa6mV39i48RrTyIIo1dcZ24EoCJlW68XrVeSNI40WOtAz95DSDYGfLjA1L9lolUBRZRBo0JJmYr0aGty44kLh_Nn0wV0YSO8eDanWMp0ikNVnv9J89ssY3SNGBNhIba9kD9SyCMVIO-b55JDQlrXY1QJvohy_V_p7C7wzLBNIi8EgegECfLYa359NSDVd6DXSc5RRSvlMd6F-wYjJaI8DjUmTQ96YkQGDbnknwDFu-vsL4fmxJbkgTN9fVToA0c01izwB5llKaINUDO6mcTGIhp9RprWa-ia'}\")\n",
      "http 404\n",
      "(\"{'vary': 'Origin, Access-Control-Request-Method, \"\n",
      " \"Access-Control-Request-Headers', 'content-type': 'text/plain;charset=UTF-8', \"\n",
      " \"'content-length': '0', 'date': 'Fri, 07 Feb 2025 12:31:20 GMT', \"\n",
      " \"'set-cookie': \"\n",
      " \"'0913a54094413d077f4215a3a6191725=9d8fcb6e8353e98241325c8dc6f0df81; path=/; \"\n",
      " \"HttpOnly; Secure', 'Expires': 'Thu, 01 Dec 1994 16:00:00 GMT', \"\n",
      " \"'Strict-Transport-Security': 'max-age=16070400; includeSubDomains', \"\n",
      " \"'Cache-Control': 'no-store, no-cache'}\\n\")\n"
     ]
    }
   ],
   "execution_count": 4
  },
  {
   "metadata": {},
   "cell_type": "markdown",
   "source": ""
  }
 ],
 "metadata": {
  "kernelspec": {
   "display_name": "Python 3",
   "language": "python",
   "name": "python3"
  },
  "language_info": {
   "codemirror_mode": {
    "name": "ipython",
    "version": 2
   },
   "file_extension": ".py",
   "mimetype": "text/x-python",
   "name": "python",
   "nbconvert_exporter": "python",
   "pygments_lexer": "ipython2",
   "version": "2.7.6"
  }
 },
 "nbformat": 4,
 "nbformat_minor": 0
}
