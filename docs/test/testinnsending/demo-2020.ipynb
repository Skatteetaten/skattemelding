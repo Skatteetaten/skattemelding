{
 "cells": [
  {
   "cell_type": "markdown",
   "metadata": {},
   "source": [
    "# DEMO nærings API"
   ]
  },
  {
   "cell_type": "markdown",
   "metadata": {},
   "source": [
    "Denne demoen er ment for å vise hvordan flyten for et sluttbrukersystem kan hente et utkast, gjøre endringer, validere/kontrollere det mot Skatteetatens apier, for å sende det inn via Altinn3"
   ]
  },
  {
   "cell_type": "code",
   "execution_count": null,
   "metadata": {},
   "outputs": [],
   "source": [
    "try: \n",
    "    from altinn3 import *\n",
    "    from skatteetaten_api import main_relay, base64_decode_response, decode_dokument\n",
    "    import requests\n",
    "    import base64\n",
    "    import xmltodict\n",
    "    import xml.dom.minidom\n",
    "except ImportError as e:\n",
    "    print(\"Mangler en avhengighet, installer dem via pip\")\n",
    "    !pip install python-jose\n",
    "    !pip install xmltodict\n",
    "    import xmltodict\n",
    "    from skatteetaten_api import main_relay, base64_decode_response, decode_dokument\n"
   ]
  },
  {
   "cell_type": "markdown",
   "metadata": {},
   "source": [
    "## Generer ID-porten token\n",
    "Tokenet er gyldig i 300 sekunder, rekjørt denne biten om du ikke har kommet frem til Altinn3 biten før 300 sekunder "
   ]
  },
  {
   "cell_type": "code",
   "execution_count": null,
   "metadata": {},
   "outputs": [],
   "source": [
    "idporten_header = main_relay()"
   ]
  },
  {
   "cell_type": "markdown",
   "metadata": {},
   "source": [
    "# Hent utkast og gjeldende\n",
    "Her legger vi inn fødselsnummeret vi logget oss inn med, Dersom du velger et annet fødselsnummer så må den du logget på med ha tilgang til skattemeldingen du ønsker å hente\n",
    "\n",
    "#### Parten nedenfor er brukt for internt test, pass på bruk deres egne testparter når dere tester\n",
    "\n",
    "29114501318 har fått en myndighetsfastsetting"
   ]
  },
  {
   "cell_type": "code",
   "execution_count": null,
   "metadata": {
    "pycharm": {
     "name": "#%%\n"
    }
   },
   "outputs": [],
   "source": [
    "s = requests.Session()\n",
    "s.headers = dict(idporten_header)\n",
    "fnr=\"29114501318\" #oppdater med test fødselsnummerene du har fått tildelt"
   ]
  },
  {
   "cell_type": "markdown",
   "metadata": {},
   "source": [
    "### Utkast"
   ]
  },
  {
   "cell_type": "code",
   "execution_count": null,
   "metadata": {},
   "outputs": [],
   "source": [
    "url_utkast = f'https://mp-test.sits.no/api/skattemelding/utkast/2020/{fnr}'\n",
    "r = s.get(url_utkast)\n",
    "r"
   ]
  },
  {
   "cell_type": "code",
   "execution_count": null,
   "metadata": {},
   "outputs": [],
   "source": [
    "print(r.text)"
   ]
  },
  {
   "cell_type": "markdown",
   "metadata": {},
   "source": [
    "### Gjeldende"
   ]
  },
  {
   "cell_type": "code",
   "execution_count": null,
   "metadata": {},
   "outputs": [],
   "source": [
    "url_gjeldende = f'https://mp-test.sits.no/api/skattemelding/2020/{fnr}'\n",
    "r_gjeldende = s.get(url_gjeldende)\n",
    "r_gjeldende"
   ]
  },
  {
   "cell_type": "markdown",
   "metadata": {},
   "source": [
    "### Fastsatt\n",
    "Her får en http 400 om vedkommende ikke har noen fastsetting, rekjørt denne etter du har sendt inn og fått tilbakemdling i Altinn at den har blitt behandlet, du skal nå ha en fastsatt skattemelding om den har blitt sent inn som Komplett"
   ]
  },
  {
   "cell_type": "code",
   "execution_count": null,
   "metadata": {},
   "outputs": [],
   "source": [
    "url_fastsatt = f'https://mp-test.sits.no/api/skattemelding/fastsatt/2020/{fnr}'\n",
    "r_fastsatt = s.get(url_fastsatt)\n",
    "r_fastsatt\n",
    "#r_fastsatt.elapsed.total_seconds()"
   ]
  },
  {
   "cell_type": "markdown",
   "metadata": {
    "pycharm": {
     "name": "#%% md\n"
    }
   },
   "source": [
    "## Svar fra hent gjeldende (utkast)\n",
    "Legg merke til nytt element \n",
    "`dokref = sme_og_naering_respons[\"skattemeldingerOgNaeringsopplysningerforespoerselResponse\"][\"dokumenter\"]['skattemeldingdokument']['id']` som viser en id for gjeldende skattemelding, denne må med i forespørselen for validering"
   ]
  },
  {
   "cell_type": "code",
   "execution_count": null,
   "metadata": {
    "pycharm": {
     "name": "#%%\n"
    }
   },
   "outputs": [],
   "source": [
    "sjekk_svar = r_gjeldende\n",
    "\n",
    "sme_og_naering_respons = xmltodict.parse(sjekk_svar.text)\n",
    "skattemelding_base64 = sme_og_naering_respons[\"skattemeldingerOgNaeringsopplysningerforespoerselResponse\"][\"dokumenter\"][\"skattemeldingdokument\"]\n",
    "sme_utkast_base64 = skattemelding_base64[\"content\"]\n",
    "dokref = sme_og_naering_respons[\"skattemeldingerOgNaeringsopplysningerforespoerselResponse\"][\"dokumenter\"]['skattemeldingdokument']['id']\n",
    "\n",
    "decoded_xml = decode_dokument(skattemelding_base64)\n",
    "sme_utkast = xml.dom.minidom.parseString(decoded_xml[\"content\"]).toprettyxml()\n",
    "print(xml.dom.minidom.parseString(sjekk_svar.text).toprettyxml())\n",
    "print(\"I responsen er skattemeldingdokument Base64 encodet, kjør cellen nedenfor for å se det decodet\")\n",
    "print(\"*\"*10+\"\\tBase64 decoded:\")\n",
    "print(sme_utkast)"
   ]
  },
  {
   "cell_type": "markdown",
   "metadata": {
    "pycharm": {
     "name": "#%% md\n"
    }
   },
   "source": [
    "## Se skattemeldingen i SME \n",
    "Om du velger å sende inn `ikkeKomplett` så må du gå inn her og sende inn skattemeldingen etter at næringsopplysningene har blitt sendt inn\n",
    "\n",
    "https://skatt-sbstest.sits.no/web/skattemeldingen/2020\n",
    "\n",
    "# Oppdater skattemeldingen og næringsmeldingen\n",
    "### Oppdater Skattemeldingen\n",
    "Som dere ser fra skattemeldingen, mangler kjøretøyet pris som ny. Nedenfor har dere xml elementet som mangler for kjøretøy som ny dersom utkastet i skattemeldingen har et kjøretøy"
   ]
  },
  {
   "cell_type": "code",
   "execution_count": null,
   "metadata": {
    "pycharm": {
     "name": "#%%\n"
    }
   },
   "outputs": [],
   "source": [
    "sme_dict = xmltodict.parse(sme_utkast)\n",
    "\n",
    "pris_som_ny = xmltodict.parse(\"\"\"<antattVerdiSomNyttKjoeretoey>\n",
    "        <beloep>\n",
    "          <beloepINok>\n",
    "            <beloepSomHeltall>12345</beloepSomHeltall>\n",
    "          </beloepINok>\n",
    "          <beloepIValuta>\n",
    "            <beloep>12345</beloep>\n",
    "          </beloepIValuta>\n",
    "          <valutakode>\n",
    "            <valutakode>NOK</valutakode>\n",
    "          </valutakode>\n",
    "          <valutakurs>\n",
    "            <valutakurs>1</valutakurs>\n",
    "          </valutakurs>\n",
    "        </beloep>\n",
    "      </antattVerdiSomNyttKjoeretoey>\"\"\")\n",
    "\n",
    "try: \n",
    "    sme_dict[\"skattemelding\"][\"boligOgEiendeler\"][\"kjoeretoey\"].update(pris_som_ny)\n",
    "except KeyError as e: \n",
    "    print(\"Utkast har ikke bil, legger ikke til pris som ny\")\n",
    "\n",
    "sme_xml = xmltodict.unparse(sme_dict)\n",
    "sme_xml = sme_xml.replace('\\t','').replace('\\n','')\n",
    "sme_xml_fix_base64 = base64.b64encode(sme_xml.encode(\"utf-8\"))\n",
    "sme_xml_fix_base64 = str(sme_xml_fix_base64.decode(\"utf-8\"))\n",
    "\n",
    "# Dette fungerer bare med myndighestfastsatt beløp på 1234567, \n",
    "# eksmeplet for 29114501318 har et myndighetsfastsatt beløp\n",
    "# Ønsker dere å teste med myndighetsfastsatt beløp så ta kontakt med nyskattemelding@skatteetaten.no\n",
    "sme_endret_myndighetsfastsetting = sme_xml.replace(\"1234567\",\"7654321\")\n",
    "sme_endret_myndighetsfastsetting_b64 = base64.b64encode(sme_endret_myndighetsfastsetting.encode(\"utf-8\"))\n",
    "sme_endret_myndighetsfastsetting_b64 = str(sme_endret_myndighetsfastsetting_b64.decode(\"utf-8\"))"
   ]
  },
  {
   "cell_type": "markdown",
   "metadata": {
    "pycharm": {
     "name": "#%% md\n"
    }
   },
   "source": [
    "## Næring xml\n",
    "Her lager vi to nærings xml, en med en feil beløp i sumDriftsinntekt og en der dette er rettet"
   ]
  },
  {
   "cell_type": "code",
   "execution_count": null,
   "metadata": {},
   "outputs": [],
   "source": [
    "with open(\"../../../src/resources/eksempler/v1/Naeringsingopplysninger-ENK-Eksempel.xml\", 'r') as f:\n",
    "    naering_enk_xml = f.read()\n",
    "\n",
    "    \n",
    "naeringsopplysninger_enk_b64 = base64.b64encode(naering_enk_xml.encode(\"utf-8\"))\n",
    "naeringsopplysninger_enk_b64 = str(naeringsopplysninger_enk_b64.decode(\"utf-8\"))\n",
    "skattemeldingPersonligSkattepliktig_base64=sme_utkast_base64#bruker utkastet uten noen endringer\n",
    "naeringsopplysninger_base64=naeringsopplysninger_enk_b64\n",
    "dok_ref=dokref\n",
    "\n",
    "valider_konvlutt = \"\"\"\n",
    "<skattemeldingerOgNaeringsopplysningerRequest xmlns=\"no:skatteetaten:fastsetting:formueinntekt:skattemeldingerognaeringsopplysninger:request:v1\">\n",
    "<dokumenter>\n",
    "    <dokument>\n",
    "        <type>skattemeldingPersonligSkattepliktig</type>\n",
    "        <encoding>utf-8</encoding>\n",
    "        <content>{skattemeldingPersonligSkattepliktig_base64}</content>\n",
    "    </dokument>\n",
    "    <dokument>\n",
    "        <type>naeringsopplysninger</type>\n",
    "        <encoding>utf-8</encoding>\n",
    "        <content>{naeringsopplysninger_base64}</content>\n",
    "    </dokument>\n",
    "</dokumenter>\n",
    "<dokumentreferanseTilGjeldendeDokument>\n",
    "        <dokumenttype>skattemeldingPersonligSkattepliktig</dokumenttype>\n",
    "        <dokumentidentifikator>{dok_ref}</dokumentidentifikator>\n",
    "    </dokumentreferanseTilGjeldendeDokument>\n",
    "</skattemeldingerOgNaeringsopplysningerRequest>\n",
    "\"\"\".replace(\"\\n\",\"\")\n",
    "naering_enk = valider_konvlutt.format(skattemeldingPersonligSkattepliktig_base64=skattemeldingPersonligSkattepliktig_base64,\n",
    "                                     naeringsopplysninger_base64=naeringsopplysninger_base64,\n",
    "                                     dok_ref=dok_ref)"
   ]
  },
  {
   "cell_type": "markdown",
   "metadata": {
    "pycharm": {
     "name": "#%% md\n"
    }
   },
   "source": [
    "# Valider utkast sme med næringsopplysninger"
   ]
  },
  {
   "cell_type": "code",
   "execution_count": null,
   "metadata": {},
   "outputs": [],
   "source": [
    "def valider_sme(payload):\n",
    "    url_valider = f'https://mp-test.sits.no/api/skattemelding/valider/2020/{fnr}'\n",
    "    header = dict(idporten_header)\n",
    "    header[\"Content-Type\"] = \"application/xml\"\n",
    "    return s.post(url_valider, headers=header, data=payload)\n",
    "\n",
    "\n",
    "#hjelpe metode om du vil se en request printet som curl \n",
    "def print_request_as_curl(r):\n",
    "    command = \"curl -X {method} -H {headers} -d '{data}' '{uri}'\"\n",
    "    method = r.request.method\n",
    "    uri = r.request.url\n",
    "    data = r.request.body\n",
    "    headers = ['\"{0}: {1}\"'.format(k, v) for k, v in r.request.headers.items()]\n",
    "    headers = \" -H \".join(headers)\n",
    "    print(command.format(method=method, headers=headers, data=data, uri=uri))\n",
    "#print_request_as_curl(valider_respons)"
   ]
  },
  {
   "cell_type": "markdown",
   "metadata": {
    "pycharm": {
     "name": "#%% md\n"
    }
   },
   "source": [
    "## Valideringsresultat av utkast og næringsoppgave"
   ]
  },
  {
   "cell_type": "code",
   "execution_count": null,
   "metadata": {
    "pycharm": {
     "name": "#%%\n"
    }
   },
   "outputs": [],
   "source": [
    "valider_respons = valider_sme(naering_enk)\n",
    "print(valider_respons)\n",
    "if valider_respons:\n",
    "    print(xml.dom.minidom.parseString(valider_respons.text).toprettyxml())"
   ]
  },
  {
   "cell_type": "markdown",
   "metadata": {
    "pycharm": {
     "name": "#%% md\n"
    }
   },
   "source": [
    "## Vis valideringer i SME \n",
    "En kan åpne skattemeldingen og se de samme valideringsresultatene for skattemeldingen\n",
    "https://skatt-sbstest.sits.no/web/skattemeldingen/2020"
   ]
  },
  {
   "cell_type": "code",
   "execution_count": null,
   "metadata": {},
   "outputs": [],
   "source": [
    "#valider_respons_fix.text\n",
    "ppxml = xml.dom.minidom.parseString(valider_respons.text).toprettyxml()\n",
    "start = ppxml.find(\"<avvikEtterBeregning>\")\n",
    "slutt = ppxml.find(\"</avvikEtterBeregning>\")  + len(\"</avvikEtterBeregning>\")\n",
    "print(ppxml[start:slutt])\n",
    "#print(ppxml)"
   ]
  },
  {
   "cell_type": "markdown",
   "metadata": {},
   "source": [
    "# Rette opp i avvik i Skattemeldingen\n",
    "Som dere ser ovenfor så er det avvik i skattemeldingen, det skyldes at vi ikke har lagt til feltene som skal komme fra næringsopplysningene over i skattemeldingen. Nedenfor kjører jeg en ny validering der jeg tar skattemeldingen som kommer med fra valideringssteget, og kjører en ny validering.\n"
   ]
  },
  {
   "cell_type": "code",
   "execution_count": null,
   "metadata": {},
   "outputs": [],
   "source": [
    "valider_respons_xml = xmltodict.parse(valider_respons.text)\n",
    "for dok in valider_respons_xml[\"skattemeldingerOgNaeringsopplysningerResponse\"][\"dokumenter\"][\"dokument\"]:\n",
    "    if dok[\"type\"] == \"naeringsopplysningerEtterBeregning\":\n",
    "        naering_xml_etter_beregning = dok[\"content\"]\n",
    "    elif dok[\"type\"] == \"skattemeldingEtterBeregning\":\n",
    "        sme_etter_beregning = dok[\"content\"]\n",
    "\n",
    "# Bytt naeringsopplysninger_base64=naeringsopplysninger_base64 med \n",
    "#      naeringsopplysninger_base64=naering_xml_etter_beregning hvis du ønsker å legge til det vi kom frem til\n",
    "naering_etter_beregning = valider_konvlutt.format(\n",
    "    skattemeldingPersonligSkattepliktig_base64=sme_etter_beregning,\n",
    "    naeringsopplysninger_base64=naeringsopplysninger_base64,\n",
    "    dok_ref=dok_ref)\n",
    "\n",
    "valider_respons2 = valider_sme(naering_etter_beregning)\n",
    "if valider_respons2:\n",
    "\n",
    "    ppxml = xml.dom.minidom.parseString(valider_respons2.text).toprettyxml()\n",
    "    start = ppxml.find(\"<avvikEtterBeregning>\")\n",
    "    slutt = ppxml.find(\"</avvikEtterBeregning>\")  + len(\"</avvikEtterBeregning>\")\n",
    "    if start == -1:\n",
    "        print(\"ingen avvik funnet\")\n",
    "    else:\n",
    "        print(ppxml[start:slutt])\n",
    "else: \n",
    "    print(valider_respons2)"
   ]
  },
  {
   "cell_type": "markdown",
   "metadata": {
    "pycharm": {
     "name": "#%% md\n"
    }
   },
   "source": [
    "# Altinn 3"
   ]
  },
  {
   "cell_type": "markdown",
   "metadata": {
    "pycharm": {
     "name": "#%% md\n"
    }
   },
   "source": [
    "1. Hent Altinn Token\n",
    "2. Oppretter en ny instans av skjemaet\n",
    "3. lasteropp metadata til skjemaet\n",
    "4. laster opp skattemeldingen og næringsopplysninger som et vedlegg"
   ]
  },
  {
   "cell_type": "code",
   "execution_count": null,
   "metadata": {
    "pycharm": {
     "name": "#%%\n"
    }
   },
   "outputs": [],
   "source": [
    "#1\n",
    "altinn_header = hent_altinn_token(idporten_header)\n",
    "party_id = hent_party_id(altinn_header)\n",
    "#2\n",
    "instans_data = opprett_ny_instans(altinn_header, fnr)\n",
    "print(instans_data)"
   ]
  },
  {
   "cell_type": "markdown",
   "metadata": {},
   "source": [
    "### 3 Last opp metadata (skattemelding_V1)\n",
    "legg merke til `<innsendingstype>` er satt til `ikkeKomplett`"
   ]
  },
  {
   "cell_type": "code",
   "execution_count": null,
   "metadata": {},
   "outputs": [],
   "source": [
    "innsendingstype=\"ikkeKomplett\"\n",
    "\n",
    "metadata_xml = f\"\"\"\n",
    "<?xml version=\"1.0\" encoding=\"utf-8\"?>\n",
    "<SkattemeldingApp xmlns:xsi=\"http://www.w3.org/2001/XMLSchema-instance\" xmlns:xsd=\"http://www.w3.org/2001/XMLSchema\">\n",
    "    <partsreferanse>str1234</partsreferanse>\n",
    "    <inntektsaar>2020</inntektsaar>\n",
    "    <innsendingstype>{innsendingstype}</innsendingstype>\n",
    "    <opprettetAv>TurboSkatt AS..</opprettetAv>\n",
    "    <opprettingstidspunkt>2012-06-03T12:12:12</opprettingstidspunkt>\n",
    "    <endringstidspunkt>2012-06-03T12:12:12</endringstidspunkt>\n",
    "</SkattemeldingApp>\"\"\".replace(\"\\n\",\"\")\n",
    "\n",
    "req_metadata = last_opp_metadata(instans_data, altinn_header, xml=metadata_xml)\n",
    "req_metadata"
   ]
  },
  {
   "cell_type": "markdown",
   "metadata": {
    "pycharm": {
     "name": "#%% md\n"
    }
   },
   "source": [
    "## Last opp skattemelding"
   ]
  },
  {
   "cell_type": "code",
   "execution_count": null,
   "metadata": {},
   "outputs": [],
   "source": [
    "req_send_inn = last_opp_skattedata(instans_data, altinn_header, xml=naering_enk)\n",
    "req_send_inn"
   ]
  },
  {
   "cell_type": "markdown",
   "metadata": {},
   "source": [
    "### Sett prosses til neste steg - Bekreftelse"
   ]
  },
  {
   "cell_type": "code",
   "execution_count": null,
   "metadata": {},
   "outputs": [],
   "source": [
    "req_bekreftelse = endre_prosess_status(instans_data, altinn_header, \"next\")\n",
    "req_bekreftelse"
   ]
  },
  {
   "cell_type": "markdown",
   "metadata": {},
   "source": [
    "### Sett prosses til neste steg - Tilbakemelding"
   ]
  },
  {
   "cell_type": "code",
   "execution_count": null,
   "metadata": {},
   "outputs": [],
   "source": [
    "req_bekreftelse = endre_prosess_status(instans_data, altinn_header, \"next\")\n",
    "req_bekreftelse"
   ]
  },
  {
   "cell_type": "markdown",
   "metadata": {},
   "source": [
    "### Se innsending i Altinn\n",
    "\n",
    "Ta en slurk av kaffen og klapp deg selv på ryggen, du har nå sendt inn, la byråkratiet gjøre sin ting... og det tar litt tid. Pt så sjekker skatteeaten hos Altinn3 hvert 5 min om det har kommet noen nye innsendinger. "
   ]
  },
  {
   "cell_type": "code",
   "execution_count": null,
   "metadata": {
    "pycharm": {
     "name": "#%%\n"
    }
   },
   "outputs": [],
   "source": [
    "instans_id=instans_data['id']\n",
    "url = f'https://skd.apps.tt02.altinn.no/skd/sirius-skattemelding-v1#/instance/{instans_id}'\n",
    "print(url)"
   ]
  },
  {
   "cell_type": "markdown",
   "metadata": {},
   "source": [
    "# Ikke komplett skattemelding\n",
    "1. Når du har fått svar i altinn innboksen, så kan du gå til \n",
    " https://skatt-sbstest.sits.no/web/skattemeldingen/2020\n",
    "2. Her vil du se næringsinntekter overført fra skattemeldingen\n",
    "3. Når du har sendt inn i SME så vil du kunne se i altinn instansen at den har blitt avsluttet\n",
    "4. Kjør cellen nedenfor for å se at du har fått en ny fastsatt skattemelding og næringsopplysninger\n"
   ]
  },
  {
   "cell_type": "code",
   "execution_count": null,
   "metadata": {},
   "outputs": [],
   "source": [
    "print(\"Resultat av hent fastsatt før fastsetting\")\n",
    "print(r_fastsatt.text)\n",
    "print(\"Resultat av hent fastsatt etter fastsetting\")\n",
    "\n",
    "r_fastsatt = s.get(url_fastsatt)\n",
    "r_fastsatt.text\n",
    "#r_fastsatt.elapsed.total_seconds()"
   ]
  },
  {
   "cell_type": "code",
   "execution_count": null,
   "metadata": {},
   "outputs": [],
   "source": []
  }
 ],
 "metadata": {
  "kernelspec": {
   "display_name": "Python 3",
   "language": "python",
   "name": "python3"
  },
  "language_info": {
   "codemirror_mode": {
    "name": "ipython",
    "version": 3
   },
   "file_extension": ".py",
   "mimetype": "text/x-python",
   "name": "python",
   "nbconvert_exporter": "python",
   "pygments_lexer": "ipython3",
   "version": "3.9.6"
  }
 },
 "nbformat": 4,
 "nbformat_minor": 4
}
