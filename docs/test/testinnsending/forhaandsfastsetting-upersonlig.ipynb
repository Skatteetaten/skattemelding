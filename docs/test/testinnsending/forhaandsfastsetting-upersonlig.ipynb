{
 "cells": [
  {
   "cell_type": "code",
   "execution_count": null,
   "id": "initial_id",
   "metadata": {
    "collapsed": true
   },
   "outputs": [],
   "source": [
    "try:\n",
    "    from altinn3 import *\n",
    "    from skatteetaten_api import main_relay, base64_decode_response, decode_dokument\n",
    "    import requests\n",
    "    import base64\n",
    "    import xmltodict\n",
    "    import xml.dom.minidom\n",
    "    from pathlib import Path\n",
    "except ImportError as e:\n",
    "    print(\"Mangler en eller avhengighet, installer dem via pip, se requierments.txt fil for detaljer\")\n",
    "    raise ImportError(e)\n"
   ]
  },
  {
   "cell_type": "code",
   "execution_count": null,
   "outputs": [],
   "source": [
    "def hent_gjeldende_skattemelding_og_sjekk_foraandsfastsettingstype(orgnr, inntektsaar):\n",
    "    url_gjeldende = f'{base_url}/api/skattemelding/v2/{inntektsaar}/{orgnr}'\n",
    "    r_gjeldende = s.get(url_gjeldende)\n",
    "\n",
    "    if r_gjeldende:\n",
    "        sme_og_naering_respons = xmltodict.parse(r_gjeldende.text)\n",
    "        skattemelding_base64 = sme_og_naering_respons[\"skattemeldingOgNaeringsspesifikasjonforespoerselResponse\"][\"dokumenter\"][\"skattemeldingdokument\"]\n",
    "        decoded_sme_xml = decode_dokument(skattemelding_base64)\n",
    "        sme_xml = xml.dom.minidom.parseString(decoded_sme_xml[\"content\"]).toprettyxml()\n",
    "        sme_dict = xmltodict.parse(sme_xml)\n",
    "        if \"gjelderForhaandsfastsetting\" in sme_dict[\"skattemelding\"]:\n",
    "            forhaandsfastsetting =  sme_dict[\"skattemelding\"][\"gjelderForhaandsfastsetting\"]['innsendingsformat']['forhaandsfastsettingsformattype']\n",
    "        else:\n",
    "            forhaandsfastsetting = \"Parten har publisert skattemelding, men ikke klargjort for foråndsfastsetting, vil følge ordniært fastsettings løp\"\n",
    "        return forhaandsfastsetting\n",
    "    else:\n",
    "        return (r_gjeldende.status_code, r_gjeldende.text)\n"
   ],
   "metadata": {
    "collapsed": false
   },
   "id": "4cb14ff040bd1a1e"
  },
  {
   "cell_type": "code",
   "execution_count": null,
   "outputs": [],
   "source": [
    "inntektsaar = \"2022\"\n",
    "base_url = \"https://idporten-api-sbstest.sits.no\"\n",
    "orgnr = \"313816079\" # bruk TENOR til å finne en part uten fastsetting av skattemeldingen og hvem som er daglig leder for orgnr (15859797943)\n"
   ],
   "metadata": {
    "collapsed": false
   },
   "id": "fe6ba506b16eaee5"
  },
  {
   "cell_type": "code",
   "execution_count": null,
   "outputs": [],
   "source": [
    "idporten_header = main_relay()\n",
    "s = requests.Session()\n",
    "s.headers = dict(idporten_header)\n"
   ],
   "metadata": {
    "collapsed": false
   },
   "id": "8069b202d95f9df9"
  },
  {
   "cell_type": "code",
   "execution_count": null,
   "outputs": [],
   "source": [
    "#Hent gjeldende skattemelding, sjekker om den er klar, og om den har forhåndsfastsetting informasjon\n",
    "sme_status = hent_gjeldende_skattemelding_og_sjekk_foraandsfastsettingstype(orgnr, inntektsaar)\n",
    "print(f\"Orgnr har følgende status: {sme_status} \")\n"
   ],
   "metadata": {
    "collapsed": false
   },
   "id": "b8a3a2eef23b63a4"
  },
  {
   "cell_type": "code",
   "execution_count": null,
   "outputs": [],
   "source": [
    "url_klargjoer_forhaandsfastsetting = f\"{base_url}/api/skattemelding/v2/klargjoerforhaandsfastsetting/{inntektsaar}/{orgnr}\"\n",
    "\n",
    "\n",
    "idporten_header[\"content-type\"] = \"application/json\"\n",
    "r_klargjoer = requests.post(url_klargjoer_forhaandsfastsetting, headers=idporten_header)\n",
    "if r_klargjoer and (\"application/json\" in r_klargjoer.headers[\"content-type\"]): \n",
    "    print(r_klargjoer.text)\n",
    "else:\n",
    "    print(r_klargjoer)\n",
    "    "
   ],
   "metadata": {
    "collapsed": false
   },
   "id": "6b44c68cc1713f76"
  },
  {
   "cell_type": "code",
   "execution_count": null,
   "outputs": [],
   "source": [
    "url_gjeldende = f'{base_url}/api/skattemelding/v2/{inntektsaar}/{orgnr}'\n",
    "r_gjeldende = s.get(url_gjeldende)\n",
    "\n",
    "if r_gjeldende:\n",
    "\n",
    "    sme_og_naering_respons = xmltodict.parse(r_gjeldende.text)\n",
    "    skattemelding_base64 = sme_og_naering_respons[\"skattemeldingOgNaeringsspesifikasjonforespoerselResponse\"][\"dokumenter\"][\"skattemeldingdokument\"]\n",
    "    decoded_sme_xml = decode_dokument(skattemelding_base64)\n",
    "    sme_xml = xml.dom.minidom.parseString(decoded_sme_xml[\"content\"]).toprettyxml()\n",
    "    sme_dict = xmltodict.parse(sme_xml)\n",
    "    if \"gjelderForhaandsfastsetting\" in sme_dict[\"skattemelding\"]:\n",
    "        forhaandsfastsetting = sme_dict[\"skattemelding\"][\"gjelderForhaandsfastsetting\"]\n",
    "    else:\n",
    "        forhaandsfastsetting = False\n",
    "    print(f\"Skattemeldingen er publisert, og foråhndsfastsettings type: {forhaandsfastsetting['innsendingsformat']['forhaandsfastsettingsformattype']} \")\n",
    "\n",
    "\n",
    "else:\n",
    "    print(r_gjeldende)"
   ],
   "metadata": {
    "collapsed": false
   },
   "id": "e33abbd477790aa6"
  }
 ],
 "metadata": {
  "kernelspec": {
   "display_name": "Python 3",
   "language": "python",
   "name": "python3"
  },
  "language_info": {
   "codemirror_mode": {
    "name": "ipython",
    "version": 2
   },
   "file_extension": ".py",
   "mimetype": "text/x-python",
   "name": "python",
   "nbconvert_exporter": "python",
   "pygments_lexer": "ipython2",
   "version": "2.7.6"
  }
 },
 "nbformat": 4,
 "nbformat_minor": 5
}
