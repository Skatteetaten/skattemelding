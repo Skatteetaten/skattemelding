{
 "cells": [
  {
   "cell_type": "markdown",
   "source": "# Søk om utsatt frist for et set av klienter",
   "metadata": {
    "collapsed": false
   }
  },
  {
   "metadata": {
    "collapsed": false
   },
   "cell_type": "code",
   "source": [
    "from docs.test.testinnsending.skatteetaten_api import get_access_token\n",
    "from requests import post\n",
    "from faker import Faker\n",
    "\n",
    "token = get_access_token()"
   ],
   "outputs": [],
   "execution_count": null
  },
  {
   "metadata": {},
   "cell_type": "code",
   "source": [
    "def lag_indentifikator(identifikator: str) -> dict():\n",
    "    fake = Faker()\n",
    "\n",
    "    if len(identifikator) > 9:\n",
    "        identifikator_dict = {\"foedselsnummer\" : identifikator}\n",
    "    else:\n",
    "        identifikator_dict = {\"organisasjonsnummer\" : identifikator}\n",
    "\n",
    "    kandidat = {\n",
    "        \"identifikator\": identifikator_dict,\n",
    "        \"naering\":  True,\n",
    "        \"navn\": fake.name(),\n",
    "        \"epost\": fake.email()\n",
    "    }\n",
    "    return kandidat\n",
    "\n",
    "identifikatorer = [\"27867196108\", \"310783145\"]\n",
    "klienter = [lag_indentifikator(kandidat) for kandidat in identifikatorer]"
   ],
   "outputs": [],
   "execution_count": null
  },
  {
   "metadata": {},
   "cell_type": "code",
   "source": [
    "inntektsår = \"2024\"\n",
    "identifikator = \"27867196108\"\n",
    "url_path = f\"/api/skattemelding/v2/utsattfristsoeknad/{identifikator}\"\n",
    "#url = \"http://ekstern-token-validering.fastsetting.formueinntekt.skattemelding.sit.apps.utv10.paas.skead.no\"\n",
    "base_url = \"https://idporten-api-sbstest.sits.no\""
   ],
   "outputs": [],
   "execution_count": null
  },
  {
   "metadata": {},
   "cell_type": "code",
   "source": "utsatt_frist_request = post(base_url+url_path, headers=token, json=klienter)",
   "outputs": [],
   "execution_count": null
  },
  {
   "metadata": {},
   "cell_type": "code",
   "source": "print(utsatt_frist_request.status_code, utsatt_frist_request.text)",
   "outputs": [],
   "execution_count": null
  },
  {
   "metadata": {},
   "cell_type": "code",
   "source": "",
   "outputs": [],
   "execution_count": null
  }
 ],
 "metadata": {
  "kernelspec": {
   "display_name": "Python 3",
   "language": "python",
   "name": "python3"
  },
  "language_info": {
   "codemirror_mode": {
    "name": "ipython",
    "version": 2
   },
   "file_extension": ".py",
   "mimetype": "text/x-python",
   "name": "python",
   "nbconvert_exporter": "python",
   "pygments_lexer": "ipython2",
   "version": "2.7.6"
  }
 },
 "nbformat": 4,
 "nbformat_minor": 0
}
