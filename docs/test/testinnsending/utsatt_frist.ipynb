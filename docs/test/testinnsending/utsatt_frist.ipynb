{
 "cells": [
  {
   "cell_type": "markdown",
   "source": "# Søk om utsatt frist for et set av klienter",
   "metadata": {
    "collapsed": false
   }
  },
  {
   "metadata": {
    "collapsed": false,
    "ExecuteTime": {
     "end_time": "2024-12-09T13:34:54.019693Z",
     "start_time": "2024-12-09T13:34:47.221221Z"
    }
   },
   "cell_type": "code",
   "source": [
    "from docs.test.testinnsending.skatteetaten_api import get_access_token\n",
    "from requests import post\n",
    "from faker import Faker\n",
    "import jwt\n",
    "import uuid\n",
    "\n",
    "token = get_access_token()\n",
    "jwt_token = token[\"Authorization\"].replace(\"Bearer \", \"\")\n",
    "\n",
    "\n",
    "#henter innlogget bruker fra tokenet\n",
    "identifikator = jwt.decode(jwt_token, options={\"verify_signature\": False})[\"sub\"]\n",
    "inntektsår = \"2024\""
   ],
   "outputs": [
    {
     "name": "stderr",
     "output_type": "stream",
     "text": [
      "/Users/jon.solvberg/workspace/skattemeldingen/.venv/lib/python3.9/site-packages/urllib3/__init__.py:35: NotOpenSSLWarning: urllib3 v2 only supports OpenSSL 1.1.1+, currently the 'ssl' module is compiled with 'LibreSSL 2.8.3'. See: https://github.com/urllib3/urllib3/issues/3020\n",
      "  warnings.warn(\n"
     ]
    },
    {
     "name": "stdout",
     "output_type": "stream",
     "text": [
      "The token is good, expires at 15:34:53 (3599 seconds from now)\n"
     ]
    },
    {
     "name": "stderr",
     "output_type": "stream",
     "text": [
      "127.0.0.1 - - [09/Dec/2024 14:34:53] \"GET /token?code=Miros249epN0NHta5aOedw.6e4RYUwgIMPqYoeh7p88Dw&iss=https%3A%2F%2Ftest.idporten.no&state=FfHjWOzhWlRKj_5vu_K8lw HTTP/1.1\" 200 -\n"
     ]
    }
   ],
   "execution_count": 1
  },
  {
   "metadata": {
    "ExecuteTime": {
     "end_time": "2024-12-09T13:35:01.288457Z",
     "start_time": "2024-12-09T13:35:01.100599Z"
    }
   },
   "cell_type": "code",
   "source": [
    "def lag_indentifikator(identifikator: str) -> dict():\n",
    "    fake = Faker()\n",
    "\n",
    "    if len(identifikator) > 9:\n",
    "        identifikator_dict = {\"foedselsnummer\" : identifikator}\n",
    "    else:\n",
    "        identifikator_dict = {\"organisasjonsnummer\" : identifikator}\n",
    "\n",
    "    kandidat = {\n",
    "        \"identifikator\": identifikator_dict,\n",
    "        \"naering\":  True, #kan ikke mikse True / False av næring i en og samme request\n",
    "        \"navn\": fake.name(),\n",
    "        \"epost\": fake.email(),\n",
    "    }\n",
    "    return kandidat\n",
    "\n",
    "\n",
    "parter = [\"21909899726\", \"18853449683\"]\n",
    "\n",
    "klienter = [lag_indentifikator(kandidat) for kandidat in parter]\n",
    "\n",
    "payload = {\"referanse\": str(uuid.uuid4()),\n",
    "           \"klienter\": klienter}\n",
    "\n",
    "url_path = f\"/api/skattemelding/v2/utsattfristsoeknad/bulk/{identifikator}\"\n",
    "base_url = \"https://idporten-api-sbstest.sits.no\""
   ],
   "outputs": [],
   "execution_count": 2
  },
  {
   "metadata": {
    "ExecuteTime": {
     "end_time": "2024-12-09T13:35:12.503392Z",
     "start_time": "2024-12-09T13:35:12.304431Z"
    }
   },
   "cell_type": "code",
   "source": [
    "utsatt_frist_request = post(base_url+url_path, headers=token, json=payload)\n",
    "print(f\"http: {utsatt_frist_request.status_code}\")\n",
    "print(utsatt_frist_request.text)"
   ],
   "outputs": [
    {
     "name": "stdout",
     "output_type": "stream",
     "text": [
      "http: 200\n",
      "{\"gjeldendeInntektsaar\":2024,\"innsender\":\"13840649827\",\"klient\":\"21909899726\",\"beskrivelse\":\"Ingen endring ble gjort for innsendt skattepliktig.\"}\n"
     ]
    }
   ],
   "execution_count": 4
  },
  {
   "metadata": {
    "ExecuteTime": {
     "end_time": "2024-12-09T13:35:08.783679Z",
     "start_time": "2024-12-09T13:35:07.991800Z"
    }
   },
   "cell_type": "code",
   "source": [
    "url_path = f\"/api/skattemelding/v2/utsattfristsoeknad/{identifikator}\"\n",
    "\n",
    "payload = {\"referanse\": str(uuid.uuid4()),\n",
    "           \"klient\": lag_indentifikator(\"21909899726\")}\n",
    "\n",
    "utsatt_frist_request_singel = post(base_url+url_path, headers=token, json=payload)\n",
    "print(f\"http: {utsatt_frist_request_singel.status_code}\")\n",
    "print(utsatt_frist_request_singel.text)"
   ],
   "outputs": [
    {
     "name": "stdout",
     "output_type": "stream",
     "text": [
      "http: 200\n",
      "{\"gjeldendeInntektsaar\":2024,\"innsender\":\"13840649827\",\"klient\":\"21909899726\",\"beskrivelse\":\"Ingen endring ble gjort for innsendt skattepliktig.\"}\n"
     ]
    }
   ],
   "execution_count": 3
  },
  {
   "metadata": {},
   "cell_type": "markdown",
   "source": ""
  }
 ],
 "metadata": {
  "kernelspec": {
   "display_name": "Python 3",
   "language": "python",
   "name": "python3"
  },
  "language_info": {
   "codemirror_mode": {
    "name": "ipython",
    "version": 2
   },
   "file_extension": ".py",
   "mimetype": "text/x-python",
   "name": "python",
   "nbconvert_exporter": "python",
   "pygments_lexer": "ipython2",
   "version": "2.7.6"
  }
 },
 "nbformat": 4,
 "nbformat_minor": 0
}
