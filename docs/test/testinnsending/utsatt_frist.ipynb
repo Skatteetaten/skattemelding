{
 "cells": [
  {
   "cell_type": "markdown",
   "source": [
    "# Opprett part\n",
    "Denne notebooken beskriver hvordan en går frem for å gjøre klar en part til test for skattemeldingen etter den er funnet med [TENOR testdatasøk](https://www.skatteetaten.no/skjema/testdata/)\n"
   ],
   "metadata": {
    "collapsed": false
   }
  },
  {
   "cell_type": "code",
   "source": [
    "from docs.test.testinnsending.skatteetaten_api import get_access_token\n",
    "from requests import post\n",
    "token = get_access_token()"
   ],
   "metadata": {
    "collapsed": false,
    "ExecuteTime": {
     "end_time": "2024-11-25T13:20:31.506604Z",
     "start_time": "2024-11-25T13:20:25.123516Z"
    }
   },
   "outputs": [
    {
     "name": "stderr",
     "output_type": "stream",
     "text": [
      "/Users/martin.unhjem/work/skattemeldingen/.venv/lib/python3.9/site-packages/urllib3/__init__.py:35: NotOpenSSLWarning: urllib3 v2 only supports OpenSSL 1.1.1+, currently the 'ssl' module is compiled with 'LibreSSL 2.8.3'. See: https://github.com/urllib3/urllib3/issues/3020\n",
      "  warnings.warn(\n"
     ]
    },
    {
     "name": "stdout",
     "output_type": "stream",
     "text": [
      "The token is good, expires at 15:20:31 (3600 seconds from now)\n"
     ]
    },
    {
     "name": "stderr",
     "output_type": "stream",
     "text": [
      "127.0.0.1 - - [25/Nov/2024 14:20:31] \"GET /token?code=994BkfGWyGlZPr98dEDQuA.DCaaxx21GrbpzdMrx_hqYA&iss=https%3A%2F%2Ftest.idporten.no&state=6WWM5gPvcmqQ5bQMQdDxHQ HTTP/1.1\" 200 -\n"
     ]
    }
   ],
   "execution_count": 1
  },
  {
   "metadata": {
    "ExecuteTime": {
     "end_time": "2024-11-25T13:20:34.437459Z",
     "start_time": "2024-11-25T13:20:34.435092Z"
    }
   },
   "cell_type": "code",
   "source": [
    "inntektsår = \"2024\"\n",
    "identifikator = \"27867196108\"\n",
    "url_path = f\"/api/skattemelding/v2/utsattfristsoeknad/{identifikator}\"\n",
    "url = \"http://ekstern-token-validering.fastsetting.formueinntekt.skattemelding.sit.apps.utv10.paas.skead.no\"\n",
    "base_url = \"https://idporten-api-sbstest.sits.no\""
   ],
   "outputs": [],
   "execution_count": 3
  },
  {
   "metadata": {
    "ExecuteTime": {
     "end_time": "2024-11-25T13:20:36.905109Z",
     "start_time": "2024-11-25T13:20:36.902668Z"
    }
   },
   "cell_type": "code",
   "source": [
    "klienter = {\n",
    "    \"referanse\": \"fra ekstern\",\n",
    "    \"klienter\": [\n",
    "        {\n",
    "            \"identifikator\": {\n",
    "                \"foedselsnummer\": \"27867196108\"\n",
    "            },\n",
    "            \"naering\": False,\n",
    "            \"navn\": \"Per Tyrker\",\n",
    "            \"epost\": \"per@tyrker.no\"\n",
    "        },\n",
    "        {\n",
    "            \"identifikator\": {\n",
    "                \"organisasjonsnummer\": \"310783145\"\n",
    "            },\n",
    "            \"naering\": True,\n",
    "            \"navn\": \"kari Nordmann\",\n",
    "            \"epost\": \"kari@Nordmann.no\"\n",
    "        }\n",
    "    ]\n",
    "}"
   ],
   "outputs": [],
   "execution_count": 4
  },
  {
   "metadata": {
    "ExecuteTime": {
     "end_time": "2024-11-25T13:20:37.773832Z",
     "start_time": "2024-11-25T13:20:37.410396Z"
    }
   },
   "cell_type": "code",
   "source": "utsatt_frist_request = post(base_url+url_path, headers=token, json=klienter)",
   "outputs": [],
   "execution_count": 5
  },
  {
   "metadata": {
    "ExecuteTime": {
     "end_time": "2024-11-25T13:20:39.407088Z",
     "start_time": "2024-11-25T13:20:39.402742Z"
    }
   },
   "cell_type": "code",
   "source": "utsatt_frist_request.text",
   "outputs": [
    {
     "data": {
      "text/plain": [
       "'{\"errorMessage\":\"Internal Server Error\",\"feilkode\":\"SME-EKSTERN-001\",\"korrelasjonsId\":\"bac12a8d-5b2f-5477-a191-118e83df04e8\"}'"
      ]
     },
     "execution_count": 6,
     "metadata": {},
     "output_type": "execute_result"
    }
   ],
   "execution_count": 6
  },
  {
   "metadata": {
    "ExecuteTime": {
     "end_time": "2024-11-25T12:03:20.167669Z",
     "start_time": "2024-11-25T12:03:20.165666Z"
    }
   },
   "cell_type": "code",
   "source": "print(utsatt_frist_request.status_code, utsatt_frist_request.text)",
   "outputs": [
    {
     "name": "stdout",
     "output_type": "stream",
     "text": [
      "401 \n"
     ]
    }
   ],
   "execution_count": 25
  },
  {
   "metadata": {
    "ExecuteTime": {
     "end_time": "2024-11-25T12:02:44.537503Z",
     "start_time": "2024-11-25T12:02:44.536076Z"
    }
   },
   "cell_type": "code",
   "source": "",
   "outputs": [],
   "execution_count": null
  },
  {
   "metadata": {},
   "cell_type": "code",
   "outputs": [],
   "execution_count": null,
   "source": ""
  }
 ],
 "metadata": {
  "kernelspec": {
   "display_name": "Python 3",
   "language": "python",
   "name": "python3"
  },
  "language_info": {
   "codemirror_mode": {
    "name": "ipython",
    "version": 2
   },
   "file_extension": ".py",
   "mimetype": "text/x-python",
   "name": "python",
   "nbconvert_exporter": "python",
   "pygments_lexer": "ipython2",
   "version": "2.7.6"
  }
 },
 "nbformat": 4,
 "nbformat_minor": 0
}
