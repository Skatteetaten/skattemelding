{
 "cells": [
  {
   "cell_type": "markdown",
   "source": "# Søk om utsatt frist for et set av klienter",
   "metadata": {
    "collapsed": false
   }
  },
  {
   "metadata": {
    "collapsed": false
   },
   "cell_type": "code",
   "source": [
    "from docs.test.testinnsending.skatteetaten_api import get_access_token\n",
    "from requests import post\n",
    "from faker import Faker\n",
    "import jwt\n",
    "import uuid\n",
    "\n",
    "token = get_access_token()\n",
    "jwt_token = token[\"Authorization\"].replace(\"Bearer \", \"\")"
   ],
   "outputs": [],
   "execution_count": null
  },
  {
   "metadata": {},
   "cell_type": "code",
   "source": [
    "def lag_indentifikator(identifikator: str) -> dict():\n",
    "    fake = Faker()\n",
    "\n",
    "    if len(identifikator) > 9:\n",
    "        identifikator_dict = {\"foedselsnummer\" : identifikator}\n",
    "    else:\n",
    "        identifikator_dict = {\"organisasjonsnummer\" : identifikator}\n",
    "\n",
    "    kandidat = {\n",
    "        \"identifikator\": identifikator_dict,\n",
    "        \"naering\":  True,\n",
    "        \"navn\": fake.name(),\n",
    "        \"epost\": fake.email(),\n",
    "    }\n",
    "    return kandidat\n",
    "\n",
    "with open(\"utsatt_frist_kandidater.csv\") as f:\n",
    "    parter = []\n",
    "\n",
    "    for line in f:\n",
    "        fnr, partn = line.split(\";\")\n",
    "        parter.append(fnr)\n",
    "\n",
    "klienter = [lag_indentifikator(kandidat) for kandidat in parter]\n",
    "payload = {\"referanse\": str(uuid.uuid4()),\n",
    "           \"klienter\": klienter}\n",
    "inntektsår = \"2024\"\n",
    "#henter innlogget bruker fra tokenet\n",
    "identifikator = jwt.decode(jwt_token, options={\"verify_signature\": False})[\"sub\"]\n",
    "url_path = f\"/api/skattemelding/v2/utsattfristsoeknad/{identifikator}\"\n",
    "#url = \"http://ekstern-token-validering.fastsetting.formueinntekt.skattemelding.sit.apps.utv10.paas.skead.no\"\n",
    "base_url = \"https://idporten-api-sbstest.sits.no\""
   ],
   "outputs": [],
   "execution_count": null
  },
  {
   "metadata": {},
   "cell_type": "code",
   "source": [
    "utsatt_frist_request = post(base_url+url_path, headers=token, json=payload)\n",
    "print(f\"http: {utsatt_frist_request.status_code}\")\n",
    "print(utsatt_frist_request.text)"
   ],
   "outputs": [],
   "execution_count": null
  }
 ],
 "metadata": {
  "kernelspec": {
   "display_name": "Python 3",
   "language": "python",
   "name": "python3"
  },
  "language_info": {
   "codemirror_mode": {
    "name": "ipython",
    "version": 2
   },
   "file_extension": ".py",
   "mimetype": "text/x-python",
   "name": "python",
   "nbconvert_exporter": "python",
   "pygments_lexer": "ipython2",
   "version": "2.7.6"
  }
 },
 "nbformat": 4,
 "nbformat_minor": 0
}
